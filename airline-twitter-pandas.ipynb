{
 "cells": [
  {
   "cell_type": "code",
   "execution_count": null,
   "metadata": {
    "collapsed": false
   },
   "outputs": [],
   "source": []
  },
  {
   "cell_type": "code",
   "execution_count": 1,
   "metadata": {
    "collapsed": false
   },
   "outputs": [],
   "source": [
    "import pandas as pd\n",
    "from nltk.corpus import stopwords\n",
    "from sklearn.linear_model import LogisticRegression\n",
    "import numpy as np"
   ]
  },
  {
   "cell_type": "code",
   "execution_count": 3,
   "metadata": {
    "collapsed": false
   },
   "outputs": [],
   "source": [
    "air = pd.read_csv('airline-twitter-sentiment/Tweets.csv')\n",
    "important_words =['accessable', 'accomplished', 'adaptable', 'admiringly', 'adulation', 'advocated', 'affirmation', 'agility',\n",
    "       'amazed', 'amiability', 'amusing', 'appreciated', 'articulate', 'astonished', 'attraction', 'available',\n",
    "       'awesomely', 'beautifully', 'benefactor', 'best', 'blessing', 'bonus', 'brave', 'brighten', 'buoyant',\n",
    "       'carefree', 'charisma', 'cheerful', 'clarity', 'cleared', 'colorful', 'commitment', 'complemented', 'confident',\n",
    "       'constructive', 'convienient', 'correctly', 'courtly', 'cushy', 'dawn', 'dedicated', 'delicacy', 'deservedly',\n",
    "       'dextrous', 'distinctive', 'doubtless', 'earnest', 'easy', 'ecstatic', 'efficiently', 'elatedly', 'eloquently',\n",
    "       'enchanting', 'endorsement', 'enhanced', 'enlighten', 'enterprising', 'enthusiastic', 'enviably', 'eulogize',\n",
    "       'exaltation', 'exceeding', 'excellent', 'excites', 'exonerate', 'exuberance', 'eyecatching', 'faithfulness',\n",
    "       'fantastic', 'fast-paced', 'favorite', 'feisty', 'festive', 'first-in-class', 'flourish', 'formidable',\n",
    "       'freedom', 'ftw', 'gainfully', 'generosity', 'gladden', 'glistening', 'god-given', 'goood', 'grand', 'gratitude',\n",
    "       'gush', 'handily', 'hardier', 'healthy', 'helping', 'holy', 'hospitable', 'humorous', 'idyllic', 'immaculately',\n",
    "       'impressed', 'improving', 'inexpensive', 'innocuous', 'instantly', 'intimacy', 'invigorate', 'irresistibly',\n",
    "       'joyous', 'keenly', 'laudable', 'lean', 'lighter', 'lovable', 'low-price', 'luckiest', 'luxurious',\n",
    "       'magnificently', 'marvelously', 'matchless', 'meritorious', 'meticulous', 'modern', 'neat', 'nobly', 'nurturing',\n",
    "       'opulent', 'outshone', 'overtakes', 'pamperedly', 'patience', 'peach', 'permissible', 'playful', 'pleasure',\n",
    "       'polished', 'powerfully', 'preferable', 'pretty', 'prodigious', 'profusion', 'promoter', 'prosperous', 'prowess',\n",
    "       'qualify', 'raptureous', 'reaffirm', 'reclaim', 'recovery', 'reform', 'regally', 'reliable', 'renewed',\n",
    "       'resourceful', 'restful', 'reverent', 'reward', 'righteously', 'rockstar', 'sagacity', 'satisfied', 'seamless',\n",
    "       'sensation', 'sharp', 'simplest', 'skillful', 'smiles', 'snazzy', 'soothingly', 'speedily', 'splendor',\n",
    "       'state-of-the-art', 'steadiness', 'straightforward', 'stunningly', 'sublime', 'succes', 'suitable', 'support',\n",
    "       'supurbly', 'swankiest', 'talent', 'tenaciously', 'thoughtfully', 'thriving', 'titillatingly', 'tougher',\n",
    "       'triumphal', 'trusting', 'unabashed', 'undaunted', 'unforgettable', 'unselfish', 'upliftingly', 'valor',\n",
    "       'victorious', 'vivid', 'well', 'well-intentioned', 'well-wishers', 'willingness', 'wisely', 'woo', 'worthy',\n",
    "       'zippy', 'abominably', 'abscond', 'abuses', 'accuse', 'achey', 'addict', 'adulterated', 'affront', 'aggrieved',\n",
    "       'ailing', 'allegation', 'ambivalence', 'anger', 'annoyances', 'antagonize', 'antipathy', 'apathy',\n",
    "       'apprehension', 'arrogance', 'aspersions', 'atrocity', 'authoritarian', 'aweful', 'back-woods', 'bad', 'bane',\n",
    "       'barren', 'batty', 'beguile', 'belligerent', 'berserk', 'betraying', 'bias', 'biting', 'blame', 'blather',\n",
    "       'blindingly', 'blotchy', 'blurry', 'bombard', 'botch', 'brainless', 'breach', 'brimstone', 'bruises', 'brute',\n",
    "       'bulky', 'bum', 'bunk', 'busybody', 'callous', 'cannibalize', 'carp', 'catastrophe', 'chafe', 'chatterbox',\n",
    "       'cheerless', 'chore', 'clogged', 'coerce', 'comical', 'complaint', 'conceit', 'condemnable', 'confessions',\n",
    "       'confrontation', 'cons', 'consternation', 'contemptuously', 'contravene', 'corrupt', 'coupists', 'crafty',\n",
    "       'crashes', 'creaking', 'cringe', 'criticism', 'crowded', 'crumble', 'culpable', 'cuss', 'damn', 'dark', 'dawdle',\n",
    "       'death', 'debilitating', 'deceitfully', 'decline', 'defame', 'deficient', 'degeneration', 'dejectedly', 'delude',\n",
    "       'demolisher', 'denial', 'denunciation', 'deprave', 'deprive', 'desertion', 'desperate', 'despondency', 'destroy',\n",
    "       'detest', 'detracts', 'deviation', 'diabolic', 'die', 'dilly-dally', 'dirt', 'disadvantageous', 'disagreement',\n",
    "       'disappointment', 'disasterous', 'discomfit', 'disconsolation', 'discountenance', 'discriminate', 'disgraceful',\n",
    "       'disgustingly', 'disillusion', 'disintegrates', 'disloyalty', 'disobedience', 'disown', 'displaced', 'disquiet',\n",
    "       'disrespectablity', 'dissappointed', 'dissembler', 'dissing', 'distaste', 'distraught', 'disturb',\n",
    "       'divisiveness', 'domineer', 'doubts', 'downhearted', 'drag', 'drastically', 'drippy', 'drowning', 'dumb', 'dust',\n",
    "       'egomania', 'embarrass', 'emphatically', 'engulf', 'entrapment', 'err', 'eschew', 'exagerate', 'excessive',\n",
    "       'exhausted', 'expensive', 'expunge', 'extremism', 'failed', 'fallacies', 'falsehood', 'fanaticism', 'fascist',\n",
    "       'fatally', 'fatuity', 'fearfully', 'felon', 'fibber', 'figurehead', 'flagrant', 'flare', 'fleed', 'flimflam',\n",
    "       'fool', 'foreboding', 'forsaken', 'frail', 'freaking', 'frenzy', 'frighten', 'fruitless', 'fucking', 'funnily',\n",
    "       'futile', 'galling', 'gawk', 'gibe', 'glibly', 'goad', 'grainy', 'grievances', 'grisly', 'grudge', 'grumpily',\n",
    "       'hack', 'hampered', 'harassment', 'hardheaded', 'harpy', 'haste', 'hates', 'hazard', 'heartless', 'hedonistic',\n",
    "       'hells', 'hideously', 'hoard', 'hopelessness', 'horrifying', 'hubris', 'hurted', 'hypocritical', 'idiotic',\n",
    "       'ignore', 'ill-sorted', 'illiterate', 'imbecile', 'immoral', 'impeach', 'imperialist', 'impinge', 'impolitic',\n",
    "       'impotent', 'improbability', 'impudently', 'inaccurate', 'inadvisably', 'incapable', 'inclement', 'incompatible',\n",
    "       'incongruous', 'inconsistency', 'incorrigibly', 'indecorum', 'indignantly', 'indistinguishable',\n",
    "       'ineffectualness', 'ineloquently', 'inescapably', 'inexpert', 'infection', 'infiltrators', 'infraction',\n",
    "       'ingratitude', 'iniquitous', 'inopportune', 'insensitive', 'insincerity', 'instability', 'insufficiency',\n",
    "       'insupportably', 'intermittent', 'intolerance', 'invader', 'invisible', 'irks', 'irragularity', 'irrecoverably',\n",
    "       'irrepressible', 'irritant', 'issues', 'jealous', 'jerk', 'judder', 'kill', 'kook', 'laconic', 'lame-duck',\n",
    "       'lapse', 'lawbreaking', 'leaks', 'lemon', 'lewdness', 'lier', 'listless', 'loathsomely', 'loophole', 'loss',\n",
    "       'ludicrous', 'lurid', 'madly', 'malevolence', 'maltreatment', 'manipulation', 'massacres', 'meddlesome',\n",
    "       'mendacious', 'midget', 'misapprehend', 'mischievous', 'miserably', 'misguided', 'misleadingly', 'miss',\n",
    "       'mistress', 'moan', 'molestation', 'mope', 'mortified', 'muddy', 'murky', 'nagging', 'nauseating', 'negate',\n",
    "       'nepotism', 'nightmare', 'nonexistent', 'obese', 'obnoxiously', 'obsessively', 'obstructs', 'oddities',\n",
    "       'offensively', 'onslaught', 'oppressively', 'outcry', 'over-acted', 'overbalanced', 'overloaded', 'overshadow',\n",
    "       'overstatements', 'overwhelmingly', 'pale', 'panicked', 'pariah', 'patronize', 'peeved', 'perilously',\n",
    "       'pertinaciously', 'perverted', 'petty', 'pigs', 'pitilessly', 'plight', 'poisonously', 'poor', 'prattle',\n",
    "       'prejudicial', 'pretentious', 'primitive', 'profanity', 'protesting', 'punch', 'puzzling', 'quash', 'racy',\n",
    "       'rampage', 'rants', 'ravage', 'reckless', 'refuses', 'regret', 'rejecting', 'remorse', 'reprehensible',\n",
    "       'reprove', 'repulsing', 'restless', 'retarded', 'revert', 'rhetoric', 'rigid', 'risks', 'rough', 'ruinous',\n",
    "       'rust', 'sacrificed', 'salacious', 'satirize', 'scandalized', 'scarcely', 'scathing', 'scorchingly',\n",
    "       'scrambling', 'screwed-up', 'seedy', 'self-serving', 'seriousness', 'shabby', 'shamefully', 'shimmy', 'shoddy',\n",
    "       'shrew', 'sick', 'silly', 'skeletons', 'skulk', 'slaughtered', 'sloooow', 'slower', 'slumpping', 'smelled',\n",
    "       'smoulder', 'smuttiest', 'snarl', 'snobish', 'somber', 'spade', 'spite', 'spoiled', 'spoonfed', 'squeak',\n",
    "       'stagnation', 'standstill', 'stealing', 'sticky', 'stingingly', 'straggle', 'streaky', 'stridently', 'strut',\n",
    "       'stumped', 'stupify', 'subjected', 'substandard', 'sucks', 'suffering', 'sully', 'suppress', 'swamped', 'taboo',\n",
    "       'tanks', 'tauntingly', 'temper', 'tepid', 'tetchily', 'threat', 'thug', 'tingled', 'torment', 'totalitarian',\n",
    "       'tragically', 'trapped', 'travesty', 'trivial', 'truant', 'two-faced', 'ugly', 'unaccessible', 'unbearablely',\n",
    "       'uncomfortable', 'unconvincingly', 'undercutting', 'undersized', 'uneasily', 'unexpectedly', 'unforeseen',\n",
    "       'unhappily', 'uninsured', 'unkindly', 'unlucky', 'unnoticed', 'unprofitable', 'unreadable', 'unrest',\n",
    "       'unsettled', 'unsteadily', 'untenable', 'unusably', 'unwell', 'upbraid', 'upseting', 'vague', 'vengefulness',\n",
    "       'vibrate', 'vile', 'vindictive', 'virulence', 'vomiting', 'war-like', 'waste', 'weakening', 'weird', 'wicked',\n",
    "       'wobble', 'worried', 'worsening', 'wreaked', 'wrinkled', 'yawn']\n"
   ]
  },
  {
   "cell_type": "code",
   "execution_count": 4,
   "metadata": {
    "collapsed": false
   },
   "outputs": [
    {
     "name": "stdout",
     "output_type": "stream",
     "text": [
      "             tweet_id airline_sentiment  airline_sentiment_confidence  \\\n",
      "0  570306133677760513           neutral                        1.0000   \n",
      "1  570301130888122368          positive                        0.3486   \n",
      "2  570301083672813571           neutral                        0.6837   \n",
      "3  570301031407624196          negative                        1.0000   \n",
      "4  570300817074462722          negative                        1.0000   \n",
      "\n",
      "  negativereason  negativereason_confidence         airline  \\\n",
      "0            NaN                        NaN  Virgin America   \n",
      "1            NaN                     0.0000  Virgin America   \n",
      "2            NaN                        NaN  Virgin America   \n",
      "3     Bad Flight                     0.7033  Virgin America   \n",
      "4     Can't Tell                     1.0000  Virgin America   \n",
      "\n",
      "  airline_sentiment_gold        name negativereason_gold  retweet_count  \\\n",
      "0                    NaN     cairdin                 NaN              0   \n",
      "1                    NaN    jnardino                 NaN              0   \n",
      "2                    NaN  yvonnalynn                 NaN              0   \n",
      "3                    NaN    jnardino                 NaN              0   \n",
      "4                    NaN    jnardino                 NaN              0   \n",
      "\n",
      "                                                text tweet_coord  \\\n",
      "0                @VirginAmerica What @dhepburn said.         NaN   \n",
      "1  @VirginAmerica plus you've added commercials t...         NaN   \n",
      "2  @VirginAmerica I didn't today... Must mean I n...         NaN   \n",
      "3  @VirginAmerica it's really aggressive to blast...         NaN   \n",
      "4  @VirginAmerica and it's a really big bad thing...         NaN   \n",
      "\n",
      "               tweet_created tweet_location               user_timezone  \\\n",
      "0  2015-02-24 11:35:52 -0800            NaN  Eastern Time (US & Canada)   \n",
      "1  2015-02-24 11:15:59 -0800            NaN  Pacific Time (US & Canada)   \n",
      "2  2015-02-24 11:15:48 -0800      Lets Play  Central Time (US & Canada)   \n",
      "3  2015-02-24 11:15:36 -0800            NaN  Pacific Time (US & Canada)   \n",
      "4  2015-02-24 11:14:45 -0800            NaN  Pacific Time (US & Canada)   \n",
      "\n",
      "                                       cleansed_text  \n",
      "0                 [@virginamerica, @dhepburn, said.]  \n",
      "1  [@virginamerica, plus, you've, added, commerci...  \n",
      "2  [@virginamerica, didn't, today..., must, mean,...  \n",
      "3  [@virginamerica, it's, really, aggressive, bla...  \n",
      "4    [@virginamerica, it's, really, big, bad, thing]  \n"
     ]
    }
   ],
   "source": [
    "#get rid of the common words\n",
    "s = set(stopwords.words('english'))\n",
    "\n",
    "def remove_stopwords(input):\n",
    "    return [i for i in input.lower().split() if i not in s]\n",
    "   # print [y for x in y if y not in list(s)]\n",
    "\n",
    "air['cleansed_text'] = air['text'].apply(lambda x: remove_stopwords(x))\n",
    "print air.head()\n"
   ]
  },
  {
   "cell_type": "code",
   "execution_count": 5,
   "metadata": {
    "collapsed": false
   },
   "outputs": [
    {
     "data": {
      "text/plain": [
       "array(['tweet_id', 'airline_sentiment', 'airline_sentiment_confidence',\n",
       "       'negativereason', 'negativereason_confidence', 'airline',\n",
       "       'airline_sentiment_gold', 'name', 'negativereason_gold',\n",
       "       'retweet_count', 'text', 'tweet_coord', 'tweet_created',\n",
       "       'tweet_location', 'user_timezone', 'cleansed_text'], dtype=object)"
      ]
     },
     "execution_count": 5,
     "metadata": {},
     "output_type": "execute_result"
    }
   ],
   "source": [
    "air.columns.values"
   ]
  },
  {
   "cell_type": "code",
   "execution_count": 6,
   "metadata": {
    "collapsed": false
   },
   "outputs": [
    {
     "name": "stderr",
     "output_type": "stream",
     "text": [
      "/Users/sram/anaconda/lib/python2.7/site-packages/IPython/kernel/__main__.py:7: SettingWithCopyWarning: \n",
      "A value is trying to be set on a copy of a slice from a DataFrame.\n",
      "Try using .loc[row_indexer,col_indexer] = value instead\n",
      "\n",
      "See the caveats in the documentation: http://pandas.pydata.org/pandas-docs/stable/indexing.html#indexing-view-versus-copy\n"
     ]
    }
   ],
   "source": [
    "#\n",
    "#discard all neutrals\n",
    "#\n",
    "\n",
    "non_neutrals = ['positive','negative']\n",
    "air_non_neutral = air[air.airline_sentiment != 'neutral']\n",
    "air_non_neutral['sentiment'] = air_non_neutral['airline_sentiment'].apply(lambda x: 1 if x == 'positive' else 0)\n",
    "#print air_non_nuetral['text']\n",
    "\n",
    "#words = air_non_nuetral['cleansed_text'].to_numpy()\n",
    "#important_words =  [item for sublist in words for item in sublist]\n",
    "\n",
    "\n",
    "\n"
   ]
  },
  {
   "cell_type": "code",
   "execution_count": 7,
   "metadata": {
    "collapsed": false
   },
   "outputs": [
    {
     "name": "stdout",
     "output_type": "stream",
     "text": [
      "11541\n"
     ]
    }
   ],
   "source": [
    "print len(air_non_neutral)"
   ]
  },
  {
   "cell_type": "code",
   "execution_count": 8,
   "metadata": {
    "collapsed": false
   },
   "outputs": [],
   "source": [
    "#\n",
    "# read positive and negative words.\n",
    "# this is from https://github.com/jeffreybreen/twitter-sentiment-analysis-tutorial-201107\n",
    "# To keep the size of words managable, I sample every 10th word\n",
    "#\n",
    "# this section is precomputed - since I cannot use this code on kaggle. see important_words\n",
    "\n",
    "# positives=\"\"\n",
    "# negatives = \"\"\n",
    "\n",
    "\n",
    "\n",
    "# with open('airline-twitter-sentiment/twitter-sentiment-analysis-tutorial-201107/data/opinion-lexicon-English/positive-words.txt') as f:\n",
    "#     for i, line in enumerate(f):\n",
    "#         if not line.lstrip().startswith(';'):\n",
    "#             #sample every 10th word to keep columns managable\n",
    "#             if (i%10 == 0):\n",
    "#                 positives = positives + line\n",
    "                \n",
    "# with open('airline-twitter-sentiment/twitter-sentiment-analysis-tutorial-201107/data/opinion-lexicon-English/negative-words.txt') as f:\n",
    "#     for i, line in enumerate(f):\n",
    "#         if not line.lstrip().startswith(';'):\n",
    "#             #sample every 10th word to keep columns managable\n",
    "#             if (i%10 == 0):\n",
    "#                 negatives = negatives + line\n",
    "\n",
    "# #print negatives\n",
    "\n",
    "# allwords = positives + negatives\n",
    "# important_words = allwords.split()\n",
    "# print important_words\n"
   ]
  },
  {
   "cell_type": "code",
   "execution_count": 9,
   "metadata": {
    "collapsed": false
   },
   "outputs": [
    {
     "name": "stderr",
     "output_type": "stream",
     "text": [
      "/Users/sram/anaconda/lib/python2.7/site-packages/IPython/kernel/__main__.py:8: SettingWithCopyWarning: \n",
      "A value is trying to be set on a copy of a slice from a DataFrame.\n",
      "Try using .loc[row_indexer,col_indexer] = value instead\n",
      "\n",
      "See the caveats in the documentation: http://pandas.pydata.org/pandas-docs/stable/indexing.html#indexing-view-versus-copy\n"
     ]
    }
   ],
   "source": [
    "#\n",
    "# Now count the nunber of time important words occur in our cleaned up text\n",
    "#Store the count in columns \n",
    "#\n",
    "\n",
    "for word in important_words:\n",
    "    #print word\n",
    "    air_non_neutral[word] = air_non_neutral['cleansed_text'].apply(lambda s: s.count(word))\n",
    "\n"
   ]
  },
  {
   "cell_type": "code",
   "execution_count": 10,
   "metadata": {
    "collapsed": false
   },
   "outputs": [
    {
     "name": "stdout",
     "output_type": "stream",
     "text": [
      "696\n",
      "696\n",
      "697\n",
      "697\n"
     ]
    }
   ],
   "source": [
    "train_data = air_non_neutral.sample(frac=.8)\n",
    "validation_data = air_non_neutral.drop(train_data.index)\n",
    "print len (validation_data.columns)\n",
    "print len(train_data.columns)\n",
    "\n",
    "train_data['intercept']=1\n",
    "validation_data['intercept']=1\n",
    "\n",
    "print len (validation_data.columns)\n",
    "print len(train_data.columns)\n",
    "#\n",
    "# feature_matrix is the new columsn we added (the important words)\n",
    "#\n",
    "feature_matrix = train_data.ix[:,17:len(train_data)]\n",
    "sentiment = train_data['sentiment']"
   ]
  },
  {
   "cell_type": "code",
   "execution_count": null,
   "metadata": {
    "collapsed": false
   },
   "outputs": [],
   "source": []
  },
  {
   "cell_type": "code",
   "execution_count": 11,
   "metadata": {
    "collapsed": false
   },
   "outputs": [
    {
     "data": {
      "text/plain": [
       "LogisticRegression(C=1.0, class_weight=None, dual=False, fit_intercept=True,\n",
       "          intercept_scaling=1, max_iter=100, multi_class='ovr',\n",
       "          penalty='l2', random_state=None, solver='liblinear', tol=0.0001,\n",
       "          verbose=0)"
      ]
     },
     "execution_count": 11,
     "metadata": {},
     "output_type": "execute_result"
    }
   ],
   "source": [
    "\n",
    "#\n",
    "# ok, train the model\n",
    "#\n",
    "logreg = LogisticRegression()\n",
    "\n",
    "logreg.fit(feature_matrix, sentiment)\n"
   ]
  },
  {
   "cell_type": "code",
   "execution_count": 12,
   "metadata": {
    "collapsed": false
   },
   "outputs": [
    {
     "name": "stdout",
     "output_type": "stream",
     "text": [
      "0.800173291455\n"
     ]
    }
   ],
   "source": [
    "#what is the accuracy on training \n",
    "score = logreg.score(feature_matrix, sentiment)\n",
    "print score"
   ]
  },
  {
   "cell_type": "code",
   "execution_count": 13,
   "metadata": {
    "collapsed": false
   },
   "outputs": [
    {
     "name": "stdout",
     "output_type": "stream",
     "text": [
      "697\n",
      "697\n",
      "0.806759098787\n"
     ]
    }
   ],
   "source": [
    "# accuracy on validation data\n",
    "feature_matrix_valid  = validation_data.ix[:,17:len(validation_data)]\n",
    "\n",
    "sentiment_valid  = validation_data['sentiment']\n",
    "\n",
    "print len (validation_data.columns)\n",
    "print len(train_data.columns)\n",
    "\n",
    "score2 = logreg.score(feature_matrix_valid, sentiment_valid)\n",
    "print score2"
   ]
  },
  {
   "cell_type": "code",
   "execution_count": 14,
   "metadata": {
    "collapsed": false
   },
   "outputs": [
    {
     "name": "stdout",
     "output_type": "stream",
     "text": [
      "(680, 1)\n",
      "(680, 2)\n"
     ]
    }
   ],
   "source": [
    "#print train_data.shape\n",
    "print logreg.coef_.T.shape\n",
    "\n",
    "result = pd.DataFrame(['intercept'] + important_words)\n",
    "\n",
    "#result['coefficients'] = pd.Series(logreg.coef_.T.flatten(), index = result.index)\n",
    "result['coefficients'] = pd.Series(logreg.coef_.T.flatten())\n",
    "\n",
    "print result.shape\n",
    "#pd.concat([result,coeffs], axis=1)\n",
    "sorted_results = result.sort_values(by='coefficients', ascending=False)\n",
    "\n"
   ]
  },
  {
   "cell_type": "code",
   "execution_count": 15,
   "metadata": {
    "collapsed": false
   },
   "outputs": [
    {
     "name": "stdout",
     "output_type": "stream",
     "text": [
      "=====TOP  POSITIVE WORDS========\n",
      "                0  coefficients\n",
      "62      exceeding      2.380784\n",
      "68   faithfulness      1.945667\n",
      "19     benefactor      1.840350\n",
      "70     fast-paced      1.824111\n",
      "11        amusing      1.242255\n",
      "91        helping      1.120945\n",
      "130       playful      1.120945\n",
      "144       reclaim      1.120945\n",
      "90        healthy      1.112156\n",
      "96   immaculately      1.045519\n",
      "====TOP 10 NEGATIVE WORDS=======\n",
      "                0  coefficients\n",
      "582         shrew     -0.776878\n",
      "235        biting     -0.886867\n",
      "614   substandard     -1.026769\n",
      "504      nepotism     -1.073071\n",
      "380     fruitless     -1.106938\n",
      "492  misleadingly     -1.107528\n",
      "357     extremism     -1.139456\n",
      "262       comical     -1.292975\n",
      "15     attraction     -1.363256\n",
      "534   poisonously     -1.600364\n"
     ]
    },
    {
     "name": "stderr",
     "output_type": "stream",
     "text": [
      "/Users/sram/anaconda/lib/python2.7/site-packages/matplotlib/font_manager.py:273: UserWarning: Matplotlib is building the font cache using fc-list. This may take a moment.\n",
      "  warnings.warn('Matplotlib is building the font cache using fc-list. This may take a moment.')\n"
     ]
    }
   ],
   "source": [
    "import matplotlib.pyplot as plt\n",
    "\n",
    "#print sorted_results[['coefficients']]\n",
    "sorted_results['coefficients']= sorted_results['coefficients'].apply(lambda x:  float(x))\n",
    "print \"=====TOP  POSITIVE WORDS========\"\n",
    "print sorted_results.head(10)\n",
    "print \"====TOP 10 NEGATIVE WORDS=======\"\n",
    "print sorted_results.tail(10)\n",
    "#print sorted_results[['coefficients']].head()\n",
    "#print sorted_results.iloc[:,0]\n",
    "#print sorted_results.head()\n"
   ]
  },
  {
   "cell_type": "code",
   "execution_count": 16,
   "metadata": {
    "collapsed": false,
    "scrolled": true
   },
   "outputs": [
    {
     "name": "stdout",
     "output_type": "stream",
     "text": [
      "68     faithfulness\n",
      "19       benefactor\n",
      "70       fast-paced\n",
      "11          amusing\n",
      "91          helping\n",
      "130         playful\n",
      "144         reclaim\n",
      "90          healthy\n",
      "96     immaculately\n",
      "Name: 0, dtype: object\n"
     ]
    },
    {
     "data": {
      "text/plain": [
       "<Container object of 10 artists>"
      ]
     },
     "execution_count": 16,
     "metadata": {},
     "output_type": "execute_result"
    },
    {
     "data": {
      "text/plain": [
       "<matplotlib.figure.Figure at 0x10e2c9750>"
      ]
     },
     "metadata": {},
     "output_type": "display_data"
    },
    {
     "data": {
      "image/png": "[encoded data removed]",
      "text/plain": [
       "<matplotlib.figure.Figure at 0x10e2c9710>"
      ]
     },
     "metadata": {},
     "output_type": "display_data"
    }
   ],
   "source": [
    "%matplotlib inline\n",
    "from pylab import rcParams\n",
    "print sorted_results.iloc[1:10,0]\n",
    "plt.figure(figsize=(10,10))\n",
    "rcParams['figure.figsize'] = 20,20\n",
    "\n",
    "#plt.subplot(211)\n",
    "fig, ax = plt.subplots()\n",
    "#ax.set_yticklabels(sorted_results.iloc[:,0])\n",
    "#ax.set_xticklabels(sorted_results.iloc[0:10:,0])\n",
    "\n",
    "#plt.bar(range(len(sorted_results)), sorted_results[['coefficients']].values)\n",
    "#plt.bar(sorted_results[['coefficients']].values,sorted_results.iloc[:,1])\n",
    "#plt.barh(range(len(sorted_results.iloc[1:10,1])),sorted_results.iloc[1:10,1])\n",
    "plt.bar(range(10),sorted_results.iloc[0:10,1],align='center')"
   ]
  },
  {
   "cell_type": "code",
   "execution_count": null,
   "metadata": {
    "collapsed": true
   },
   "outputs": [],
   "source": []
  },
  {
   "cell_type": "code",
   "execution_count": null,
   "metadata": {
    "collapsed": true
   },
   "outputs": [],
   "source": []
  },
  {
   "cell_type": "code",
   "execution_count": null,
   "metadata": {
    "collapsed": true
   },
   "outputs": [],
   "source": []
  }
 ],
 "metadata": {
  "kernelspec": {
   "display_name": "Python 2",
   "language": "python",
   "name": "python2"
  },
  "language_info": {
   "codemirror_mode": {
    "name": "ipython",
    "version": 2
   },
   "file_extension": ".py",
   "mimetype": "text/x-python",
   "name": "python",
   "nbconvert_exporter": "python",
   "pygments_lexer": "ipython2",
   "version": "2.7.12"
  }
 },
 "nbformat": 4,
 "nbformat_minor": 0
}
