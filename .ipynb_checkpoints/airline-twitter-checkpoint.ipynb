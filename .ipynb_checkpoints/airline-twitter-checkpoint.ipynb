{
 "cells": [
  {
   "cell_type": "code",
   "execution_count": null,
   "metadata": {
    "collapsed": false
   },
   "outputs": [],
   "source": []
  },
  {
   "cell_type": "code",
   "execution_count": 1,
   "metadata": {
    "collapsed": false
   },
   "outputs": [],
   "source": [
    "import sframe\n",
    "from nltk.corpus import stopwords\n",
    "from sklearn.linear_model import LogisticRegression\n",
    "import numpy as np"
   ]
  },
  {
   "cell_type": "code",
   "execution_count": 2,
   "metadata": {
    "collapsed": false
   },
   "outputs": [
    {
     "name": "stderr",
     "output_type": "stream",
     "text": [
      "[INFO] sframe.cython.cy_server: SFrame v2.1 started. Logging /tmp/sframe_server_1475788509.log\n",
      "INFO:sframe.cython.cy_server:SFrame v2.1 started. Logging /tmp/sframe_server_1475788509.log\n"
     ]
    },
    {
     "data": {
      "text/html": [
       "<pre>Unable to parse line \"570300767074181121,negative,1.0,Can't Tell,0.6842,Virgin America,,jnardino,,0,\"@VirginAmerica seriously would pay $30 a flight for seats that didn't have this playing.\"</pre>"
      ],
      "text/plain": [
       "Unable to parse line \"570300767074181121,negative,1.0,Can't Tell,0.6842,Virgin America,,jnardino,,0,\"@VirginAmerica seriously would pay $30 a flight for seats that didn't have this playing.\""
      ]
     },
     "metadata": {},
     "output_type": "display_data"
    },
    {
     "data": {
      "text/html": [
       "<pre>Unable to parse line \"it's really the only bad thing about flying VA\",,2015-02-24 11:14:33 -0800,,Pacific Time (US & Canada)\"</pre>"
      ],
      "text/plain": [
       "Unable to parse line \"it's really the only bad thing about flying VA\",,2015-02-24 11:14:33 -0800,,Pacific Time (US & Canada)\""
      ]
     },
     "metadata": {},
     "output_type": "display_data"
    },
    {
     "data": {
      "text/html": [
       "<pre>Unable to parse line \"568182544124014592,negative,1.0,Lost Luggage,0.8436,Delta,negative,edgarsantana,\"Lost Luggage\"</pre>"
      ],
      "text/plain": [
       "Unable to parse line \"568182544124014592,negative,1.0,Lost Luggage,0.8436,Delta,negative,edgarsantana,\"Lost Luggage\""
      ]
     },
     "metadata": {},
     "output_type": "display_data"
    },
    {
     "data": {
      "text/html": [
       "<pre>Unable to parse line \"Damaged Luggage\",0,@JetBlue I am heading to JFK now just on principle alone to deal w my lost &amp; damaged bag. #jetblue #jetbluesucks #jfk #badservice #fail,,2015-02-18 14:57:29 -0800,\"ÜT: 40.96513,-73.872957\",Eastern Time (US & Canada)\"</pre>"
      ],
      "text/plain": [
       "Unable to parse line \"Damaged Luggage\",0,@JetBlue I am heading to JFK now just on principle alone to deal w my lost &amp; damaged bag. #jetblue #jetbluesucks #jfk #badservice #fail,,2015-02-18 14:57:29 -0800,\"ÜT: 40.96513,-73.872957\",Eastern Time (US & Canada)\""
      ]
     },
     "metadata": {},
     "output_type": "display_data"
    },
    {
     "data": {
      "text/html": [
       "<pre>Unable to parse line \"569342220534288384,negative,1.0,Bad Flight,0.6303,United,,ScottyNeuman,,1,@united 6377 and now they sent our green tagged bags to the luggage carousel. It's been one mess up after another. Bad day @united,,2015-02-21 19:45:37 -0800,\"Montana, God's country\"</pre>"
      ],
      "text/plain": [
       "Unable to parse line \"569342220534288384,negative,1.0,Bad Flight,0.6303,United,,ScottyNeuman,,1,@united 6377 and now they sent our green tagged bags to the luggage carousel. It's been one mess up after another. Bad day @united,,2015-02-21 19:45:37 -0800,\"Montana, God's country\""
      ]
     },
     "metadata": {},
     "output_type": "display_data"
    },
    {
     "data": {
      "text/html": [
       "<pre>Unable to parse line \"\",Pacific Time (US & Canada)\"</pre>"
      ],
      "text/plain": [
       "Unable to parse line \"\",Pacific Time (US & Canada)\""
      ]
     },
     "metadata": {},
     "output_type": "display_data"
    },
    {
     "data": {
      "text/html": [
       "<pre>Unable to parse line \"567744571124482048,neutral,1.0,,,United,,aries83861,,0,\"@united Is there a way to get  a copy of Feb's edition of Hemisphere\"</pre>"
      ],
      "text/plain": [
       "Unable to parse line \"567744571124482048,neutral,1.0,,,United,,aries83861,,0,\"@united Is there a way to get  a copy of Feb's edition of Hemisphere\""
      ]
     },
     "metadata": {},
     "output_type": "display_data"
    },
    {
     "data": {
      "text/html": [
       "<pre>Unable to parse line \"magazine with out flying?\",,2015-02-17 09:57:08 -0800,ottawa,\"</pre>"
      ],
      "text/plain": [
       "Unable to parse line \"magazine with out flying?\",,2015-02-17 09:57:08 -0800,ottawa,\""
      ]
     },
     "metadata": {},
     "output_type": "display_data"
    },
    {
     "data": {
      "text/html": [
       "<pre>Unable to parse line \"567902921829978112,negative,1.0,Lost Luggage,1.0,Southwest,,jpmanterola,,0,\"@SouthwestAir where are our bags?\"</pre>"
      ],
      "text/plain": [
       "Unable to parse line \"567902921829978112,negative,1.0,Lost Luggage,1.0,Southwest,,jpmanterola,,0,\"@SouthwestAir where are our bags?\""
      ]
     },
     "metadata": {},
     "output_type": "display_data"
    },
    {
     "data": {
      "text/html": [
       "<pre>Unable to parse line \"We have a tv show to film!!\",,2015-02-17 20:26:22 -0800,\"Tampa / St Petersburg ,Florida\",Central Time (US & Canada)\"</pre>"
      ],
      "text/plain": [
       "Unable to parse line \"We have a tv show to film!!\",,2015-02-17 20:26:22 -0800,\"Tampa / St Petersburg ,Florida\",Central Time (US & Canada)\""
      ]
     },
     "metadata": {},
     "output_type": "display_data"
    },
    {
     "data": {
      "text/html": [
       "<pre>348 lines failed to parse correctly</pre>"
      ],
      "text/plain": [
       "348 lines failed to parse correctly"
      ]
     },
     "metadata": {},
     "output_type": "display_data"
    },
    {
     "data": {
      "text/html": [
       "<pre>Finished parsing file /Users/sram/Documents/code/ml/kaggle/airline-twitter-sentiment/Tweets.csv</pre>"
      ],
      "text/plain": [
       "Finished parsing file /Users/sram/Documents/code/ml/kaggle/airline-twitter-sentiment/Tweets.csv"
      ]
     },
     "metadata": {},
     "output_type": "display_data"
    },
    {
     "data": {
      "text/html": [
       "<pre>Parsing completed. Parsed 14475 lines in 0.084204 secs.</pre>"
      ],
      "text/plain": [
       "Parsing completed. Parsed 14475 lines in 0.084204 secs."
      ]
     },
     "metadata": {},
     "output_type": "display_data"
    },
    {
     "name": "stdout",
     "output_type": "stream",
     "text": [
      "------------------------------------------------------\n",
      "Inferred types from first 100 line(s) of file as \n",
      "column_type_hints=[int,str,float,str,float,str,str,str,str,int,str,array,str,str,str]\n",
      "If parsing fails due to incorrect types, you can correct\n",
      "the inferred type list above and pass it to read_csv in\n",
      "the column_type_hints argument\n",
      "------------------------------------------------------\n"
     ]
    }
   ],
   "source": [
    "air = sframe.SFrame.read_csv('airline-twitter-sentiment/Tweets.csv')"
   ]
  },
  {
   "cell_type": "code",
   "execution_count": 3,
   "metadata": {
    "collapsed": false
   },
   "outputs": [
    {
     "data": {
      "text/html": [
       "<div style=\"max-height:1000px;max-width:1500px;overflow:auto;\"><table frame=\"box\" rules=\"cols\">\n",
       "    <tr>\n",
       "        <th style=\"padding-left: 1em; padding-right: 1em; text-align: center\">tweet_id</th>\n",
       "        <th style=\"padding-left: 1em; padding-right: 1em; text-align: center\">airline_sentiment</th>\n",
       "        <th style=\"padding-left: 1em; padding-right: 1em; text-align: center\">airline_sentiment_confide<br>nce ...</th>\n",
       "        <th style=\"padding-left: 1em; padding-right: 1em; text-align: center\">negativereason</th>\n",
       "        <th style=\"padding-left: 1em; padding-right: 1em; text-align: center\">negativereason_confidence</th>\n",
       "    </tr>\n",
       "    <tr>\n",
       "        <td style=\"padding-left: 1em; padding-right: 1em; text-align: center; vertical-align: top\">570306133677760513</td>\n",
       "        <td style=\"padding-left: 1em; padding-right: 1em; text-align: center; vertical-align: top\">neutral</td>\n",
       "        <td style=\"padding-left: 1em; padding-right: 1em; text-align: center; vertical-align: top\">1.0</td>\n",
       "        <td style=\"padding-left: 1em; padding-right: 1em; text-align: center; vertical-align: top\"></td>\n",
       "        <td style=\"padding-left: 1em; padding-right: 1em; text-align: center; vertical-align: top\">None</td>\n",
       "    </tr>\n",
       "    <tr>\n",
       "        <td style=\"padding-left: 1em; padding-right: 1em; text-align: center; vertical-align: top\">570301130888122368</td>\n",
       "        <td style=\"padding-left: 1em; padding-right: 1em; text-align: center; vertical-align: top\">positive</td>\n",
       "        <td style=\"padding-left: 1em; padding-right: 1em; text-align: center; vertical-align: top\">0.3486</td>\n",
       "        <td style=\"padding-left: 1em; padding-right: 1em; text-align: center; vertical-align: top\"></td>\n",
       "        <td style=\"padding-left: 1em; padding-right: 1em; text-align: center; vertical-align: top\">0.0</td>\n",
       "    </tr>\n",
       "    <tr>\n",
       "        <td style=\"padding-left: 1em; padding-right: 1em; text-align: center; vertical-align: top\">570301083672813571</td>\n",
       "        <td style=\"padding-left: 1em; padding-right: 1em; text-align: center; vertical-align: top\">neutral</td>\n",
       "        <td style=\"padding-left: 1em; padding-right: 1em; text-align: center; vertical-align: top\">0.6837</td>\n",
       "        <td style=\"padding-left: 1em; padding-right: 1em; text-align: center; vertical-align: top\"></td>\n",
       "        <td style=\"padding-left: 1em; padding-right: 1em; text-align: center; vertical-align: top\">None</td>\n",
       "    </tr>\n",
       "    <tr>\n",
       "        <td style=\"padding-left: 1em; padding-right: 1em; text-align: center; vertical-align: top\">570301031407624196</td>\n",
       "        <td style=\"padding-left: 1em; padding-right: 1em; text-align: center; vertical-align: top\">negative</td>\n",
       "        <td style=\"padding-left: 1em; padding-right: 1em; text-align: center; vertical-align: top\">1.0</td>\n",
       "        <td style=\"padding-left: 1em; padding-right: 1em; text-align: center; vertical-align: top\">Bad Flight</td>\n",
       "        <td style=\"padding-left: 1em; padding-right: 1em; text-align: center; vertical-align: top\">0.7033</td>\n",
       "    </tr>\n",
       "    <tr>\n",
       "        <td style=\"padding-left: 1em; padding-right: 1em; text-align: center; vertical-align: top\">570300817074462722</td>\n",
       "        <td style=\"padding-left: 1em; padding-right: 1em; text-align: center; vertical-align: top\">negative</td>\n",
       "        <td style=\"padding-left: 1em; padding-right: 1em; text-align: center; vertical-align: top\">1.0</td>\n",
       "        <td style=\"padding-left: 1em; padding-right: 1em; text-align: center; vertical-align: top\">Can't Tell</td>\n",
       "        <td style=\"padding-left: 1em; padding-right: 1em; text-align: center; vertical-align: top\">1.0</td>\n",
       "    </tr>\n",
       "    <tr>\n",
       "        <td style=\"padding-left: 1em; padding-right: 1em; text-align: center; vertical-align: top\">570300616901320704</td>\n",
       "        <td style=\"padding-left: 1em; padding-right: 1em; text-align: center; vertical-align: top\">positive</td>\n",
       "        <td style=\"padding-left: 1em; padding-right: 1em; text-align: center; vertical-align: top\">0.6745</td>\n",
       "        <td style=\"padding-left: 1em; padding-right: 1em; text-align: center; vertical-align: top\"></td>\n",
       "        <td style=\"padding-left: 1em; padding-right: 1em; text-align: center; vertical-align: top\">0.0</td>\n",
       "    </tr>\n",
       "    <tr>\n",
       "        <td style=\"padding-left: 1em; padding-right: 1em; text-align: center; vertical-align: top\">570300248553349120</td>\n",
       "        <td style=\"padding-left: 1em; padding-right: 1em; text-align: center; vertical-align: top\">neutral</td>\n",
       "        <td style=\"padding-left: 1em; padding-right: 1em; text-align: center; vertical-align: top\">0.634</td>\n",
       "        <td style=\"padding-left: 1em; padding-right: 1em; text-align: center; vertical-align: top\"></td>\n",
       "        <td style=\"padding-left: 1em; padding-right: 1em; text-align: center; vertical-align: top\">None</td>\n",
       "    </tr>\n",
       "    <tr>\n",
       "        <td style=\"padding-left: 1em; padding-right: 1em; text-align: center; vertical-align: top\">570299953286942721</td>\n",
       "        <td style=\"padding-left: 1em; padding-right: 1em; text-align: center; vertical-align: top\">positive</td>\n",
       "        <td style=\"padding-left: 1em; padding-right: 1em; text-align: center; vertical-align: top\">0.6559</td>\n",
       "        <td style=\"padding-left: 1em; padding-right: 1em; text-align: center; vertical-align: top\"></td>\n",
       "        <td style=\"padding-left: 1em; padding-right: 1em; text-align: center; vertical-align: top\">None</td>\n",
       "    </tr>\n",
       "    <tr>\n",
       "        <td style=\"padding-left: 1em; padding-right: 1em; text-align: center; vertical-align: top\">570295459631263746</td>\n",
       "        <td style=\"padding-left: 1em; padding-right: 1em; text-align: center; vertical-align: top\">positive</td>\n",
       "        <td style=\"padding-left: 1em; padding-right: 1em; text-align: center; vertical-align: top\">1.0</td>\n",
       "        <td style=\"padding-left: 1em; padding-right: 1em; text-align: center; vertical-align: top\"></td>\n",
       "        <td style=\"padding-left: 1em; padding-right: 1em; text-align: center; vertical-align: top\">None</td>\n",
       "    </tr>\n",
       "    <tr>\n",
       "        <td style=\"padding-left: 1em; padding-right: 1em; text-align: center; vertical-align: top\">570294189143031808</td>\n",
       "        <td style=\"padding-left: 1em; padding-right: 1em; text-align: center; vertical-align: top\">neutral</td>\n",
       "        <td style=\"padding-left: 1em; padding-right: 1em; text-align: center; vertical-align: top\">0.6769</td>\n",
       "        <td style=\"padding-left: 1em; padding-right: 1em; text-align: center; vertical-align: top\"></td>\n",
       "        <td style=\"padding-left: 1em; padding-right: 1em; text-align: center; vertical-align: top\">0.0</td>\n",
       "    </tr>\n",
       "</table>\n",
       "<table frame=\"box\" rules=\"cols\">\n",
       "    <tr>\n",
       "        <th style=\"padding-left: 1em; padding-right: 1em; text-align: center\">airline</th>\n",
       "        <th style=\"padding-left: 1em; padding-right: 1em; text-align: center\">airline_sentiment_gold</th>\n",
       "        <th style=\"padding-left: 1em; padding-right: 1em; text-align: center\">name</th>\n",
       "        <th style=\"padding-left: 1em; padding-right: 1em; text-align: center\">negativereason_gold</th>\n",
       "        <th style=\"padding-left: 1em; padding-right: 1em; text-align: center\">retweet_count</th>\n",
       "    </tr>\n",
       "    <tr>\n",
       "        <td style=\"padding-left: 1em; padding-right: 1em; text-align: center; vertical-align: top\">Virgin America</td>\n",
       "        <td style=\"padding-left: 1em; padding-right: 1em; text-align: center; vertical-align: top\"></td>\n",
       "        <td style=\"padding-left: 1em; padding-right: 1em; text-align: center; vertical-align: top\">cairdin</td>\n",
       "        <td style=\"padding-left: 1em; padding-right: 1em; text-align: center; vertical-align: top\"></td>\n",
       "        <td style=\"padding-left: 1em; padding-right: 1em; text-align: center; vertical-align: top\">0</td>\n",
       "    </tr>\n",
       "    <tr>\n",
       "        <td style=\"padding-left: 1em; padding-right: 1em; text-align: center; vertical-align: top\">Virgin America</td>\n",
       "        <td style=\"padding-left: 1em; padding-right: 1em; text-align: center; vertical-align: top\"></td>\n",
       "        <td style=\"padding-left: 1em; padding-right: 1em; text-align: center; vertical-align: top\">jnardino</td>\n",
       "        <td style=\"padding-left: 1em; padding-right: 1em; text-align: center; vertical-align: top\"></td>\n",
       "        <td style=\"padding-left: 1em; padding-right: 1em; text-align: center; vertical-align: top\">0</td>\n",
       "    </tr>\n",
       "    <tr>\n",
       "        <td style=\"padding-left: 1em; padding-right: 1em; text-align: center; vertical-align: top\">Virgin America</td>\n",
       "        <td style=\"padding-left: 1em; padding-right: 1em; text-align: center; vertical-align: top\"></td>\n",
       "        <td style=\"padding-left: 1em; padding-right: 1em; text-align: center; vertical-align: top\">yvonnalynn</td>\n",
       "        <td style=\"padding-left: 1em; padding-right: 1em; text-align: center; vertical-align: top\"></td>\n",
       "        <td style=\"padding-left: 1em; padding-right: 1em; text-align: center; vertical-align: top\">0</td>\n",
       "    </tr>\n",
       "    <tr>\n",
       "        <td style=\"padding-left: 1em; padding-right: 1em; text-align: center; vertical-align: top\">Virgin America</td>\n",
       "        <td style=\"padding-left: 1em; padding-right: 1em; text-align: center; vertical-align: top\"></td>\n",
       "        <td style=\"padding-left: 1em; padding-right: 1em; text-align: center; vertical-align: top\">jnardino</td>\n",
       "        <td style=\"padding-left: 1em; padding-right: 1em; text-align: center; vertical-align: top\"></td>\n",
       "        <td style=\"padding-left: 1em; padding-right: 1em; text-align: center; vertical-align: top\">0</td>\n",
       "    </tr>\n",
       "    <tr>\n",
       "        <td style=\"padding-left: 1em; padding-right: 1em; text-align: center; vertical-align: top\">Virgin America</td>\n",
       "        <td style=\"padding-left: 1em; padding-right: 1em; text-align: center; vertical-align: top\"></td>\n",
       "        <td style=\"padding-left: 1em; padding-right: 1em; text-align: center; vertical-align: top\">jnardino</td>\n",
       "        <td style=\"padding-left: 1em; padding-right: 1em; text-align: center; vertical-align: top\"></td>\n",
       "        <td style=\"padding-left: 1em; padding-right: 1em; text-align: center; vertical-align: top\">0</td>\n",
       "    </tr>\n",
       "    <tr>\n",
       "        <td style=\"padding-left: 1em; padding-right: 1em; text-align: center; vertical-align: top\">Virgin America</td>\n",
       "        <td style=\"padding-left: 1em; padding-right: 1em; text-align: center; vertical-align: top\"></td>\n",
       "        <td style=\"padding-left: 1em; padding-right: 1em; text-align: center; vertical-align: top\">cjmcginnis</td>\n",
       "        <td style=\"padding-left: 1em; padding-right: 1em; text-align: center; vertical-align: top\"></td>\n",
       "        <td style=\"padding-left: 1em; padding-right: 1em; text-align: center; vertical-align: top\">0</td>\n",
       "    </tr>\n",
       "    <tr>\n",
       "        <td style=\"padding-left: 1em; padding-right: 1em; text-align: center; vertical-align: top\">Virgin America</td>\n",
       "        <td style=\"padding-left: 1em; padding-right: 1em; text-align: center; vertical-align: top\"></td>\n",
       "        <td style=\"padding-left: 1em; padding-right: 1em; text-align: center; vertical-align: top\">pilot</td>\n",
       "        <td style=\"padding-left: 1em; padding-right: 1em; text-align: center; vertical-align: top\"></td>\n",
       "        <td style=\"padding-left: 1em; padding-right: 1em; text-align: center; vertical-align: top\">0</td>\n",
       "    </tr>\n",
       "    <tr>\n",
       "        <td style=\"padding-left: 1em; padding-right: 1em; text-align: center; vertical-align: top\">Virgin America</td>\n",
       "        <td style=\"padding-left: 1em; padding-right: 1em; text-align: center; vertical-align: top\"></td>\n",
       "        <td style=\"padding-left: 1em; padding-right: 1em; text-align: center; vertical-align: top\">dhepburn</td>\n",
       "        <td style=\"padding-left: 1em; padding-right: 1em; text-align: center; vertical-align: top\"></td>\n",
       "        <td style=\"padding-left: 1em; padding-right: 1em; text-align: center; vertical-align: top\">0</td>\n",
       "    </tr>\n",
       "    <tr>\n",
       "        <td style=\"padding-left: 1em; padding-right: 1em; text-align: center; vertical-align: top\">Virgin America</td>\n",
       "        <td style=\"padding-left: 1em; padding-right: 1em; text-align: center; vertical-align: top\"></td>\n",
       "        <td style=\"padding-left: 1em; padding-right: 1em; text-align: center; vertical-align: top\">YupitsTate</td>\n",
       "        <td style=\"padding-left: 1em; padding-right: 1em; text-align: center; vertical-align: top\"></td>\n",
       "        <td style=\"padding-left: 1em; padding-right: 1em; text-align: center; vertical-align: top\">0</td>\n",
       "    </tr>\n",
       "    <tr>\n",
       "        <td style=\"padding-left: 1em; padding-right: 1em; text-align: center; vertical-align: top\">Virgin America</td>\n",
       "        <td style=\"padding-left: 1em; padding-right: 1em; text-align: center; vertical-align: top\"></td>\n",
       "        <td style=\"padding-left: 1em; padding-right: 1em; text-align: center; vertical-align: top\">idk_but_youtube</td>\n",
       "        <td style=\"padding-left: 1em; padding-right: 1em; text-align: center; vertical-align: top\"></td>\n",
       "        <td style=\"padding-left: 1em; padding-right: 1em; text-align: center; vertical-align: top\">0</td>\n",
       "    </tr>\n",
       "</table>\n",
       "<table frame=\"box\" rules=\"cols\">\n",
       "    <tr>\n",
       "        <th style=\"padding-left: 1em; padding-right: 1em; text-align: center\">text</th>\n",
       "        <th style=\"padding-left: 1em; padding-right: 1em; text-align: center\">tweet_coord</th>\n",
       "        <th style=\"padding-left: 1em; padding-right: 1em; text-align: center\">tweet_created</th>\n",
       "        <th style=\"padding-left: 1em; padding-right: 1em; text-align: center\">tweet_location</th>\n",
       "        <th style=\"padding-left: 1em; padding-right: 1em; text-align: center\">user_timezone</th>\n",
       "    </tr>\n",
       "    <tr>\n",
       "        <td style=\"padding-left: 1em; padding-right: 1em; text-align: center; vertical-align: top\">@VirginAmerica What<br>@dhepburn said. ...</td>\n",
       "        <td style=\"padding-left: 1em; padding-right: 1em; text-align: center; vertical-align: top\">None</td>\n",
       "        <td style=\"padding-left: 1em; padding-right: 1em; text-align: center; vertical-align: top\">2015-02-24 11:35:52 -0800</td>\n",
       "        <td style=\"padding-left: 1em; padding-right: 1em; text-align: center; vertical-align: top\"></td>\n",
       "        <td style=\"padding-left: 1em; padding-right: 1em; text-align: center; vertical-align: top\">Eastern Time (US &amp;<br>Canada) ...</td>\n",
       "    </tr>\n",
       "    <tr>\n",
       "        <td style=\"padding-left: 1em; padding-right: 1em; text-align: center; vertical-align: top\">@VirginAmerica plus<br>you've added commercials ...</td>\n",
       "        <td style=\"padding-left: 1em; padding-right: 1em; text-align: center; vertical-align: top\">None</td>\n",
       "        <td style=\"padding-left: 1em; padding-right: 1em; text-align: center; vertical-align: top\">2015-02-24 11:15:59 -0800</td>\n",
       "        <td style=\"padding-left: 1em; padding-right: 1em; text-align: center; vertical-align: top\"></td>\n",
       "        <td style=\"padding-left: 1em; padding-right: 1em; text-align: center; vertical-align: top\">Pacific Time (US &amp;<br>Canada) ...</td>\n",
       "    </tr>\n",
       "    <tr>\n",
       "        <td style=\"padding-left: 1em; padding-right: 1em; text-align: center; vertical-align: top\">@VirginAmerica I didn't<br>today... Must mean I  ...</td>\n",
       "        <td style=\"padding-left: 1em; padding-right: 1em; text-align: center; vertical-align: top\">None</td>\n",
       "        <td style=\"padding-left: 1em; padding-right: 1em; text-align: center; vertical-align: top\">2015-02-24 11:15:48 -0800</td>\n",
       "        <td style=\"padding-left: 1em; padding-right: 1em; text-align: center; vertical-align: top\">Lets Play</td>\n",
       "        <td style=\"padding-left: 1em; padding-right: 1em; text-align: center; vertical-align: top\">Central Time (US &amp;<br>Canada) ...</td>\n",
       "    </tr>\n",
       "    <tr>\n",
       "        <td style=\"padding-left: 1em; padding-right: 1em; text-align: center; vertical-align: top\">@VirginAmerica it's<br>really aggressive to ...</td>\n",
       "        <td style=\"padding-left: 1em; padding-right: 1em; text-align: center; vertical-align: top\">None</td>\n",
       "        <td style=\"padding-left: 1em; padding-right: 1em; text-align: center; vertical-align: top\">2015-02-24 11:15:36 -0800</td>\n",
       "        <td style=\"padding-left: 1em; padding-right: 1em; text-align: center; vertical-align: top\"></td>\n",
       "        <td style=\"padding-left: 1em; padding-right: 1em; text-align: center; vertical-align: top\">Pacific Time (US &amp;<br>Canada) ...</td>\n",
       "    </tr>\n",
       "    <tr>\n",
       "        <td style=\"padding-left: 1em; padding-right: 1em; text-align: center; vertical-align: top\">@VirginAmerica and it's a<br>really big bad thing ...</td>\n",
       "        <td style=\"padding-left: 1em; padding-right: 1em; text-align: center; vertical-align: top\">None</td>\n",
       "        <td style=\"padding-left: 1em; padding-right: 1em; text-align: center; vertical-align: top\">2015-02-24 11:14:45 -0800</td>\n",
       "        <td style=\"padding-left: 1em; padding-right: 1em; text-align: center; vertical-align: top\"></td>\n",
       "        <td style=\"padding-left: 1em; padding-right: 1em; text-align: center; vertical-align: top\">Pacific Time (US &amp;<br>Canada) ...</td>\n",
       "    </tr>\n",
       "    <tr>\n",
       "        <td style=\"padding-left: 1em; padding-right: 1em; text-align: center; vertical-align: top\">@VirginAmerica yes,<br>nearly every time I fly ...</td>\n",
       "        <td style=\"padding-left: 1em; padding-right: 1em; text-align: center; vertical-align: top\">None</td>\n",
       "        <td style=\"padding-left: 1em; padding-right: 1em; text-align: center; vertical-align: top\">2015-02-24 11:13:57 -0800</td>\n",
       "        <td style=\"padding-left: 1em; padding-right: 1em; text-align: center; vertical-align: top\">San Francisco CA</td>\n",
       "        <td style=\"padding-left: 1em; padding-right: 1em; text-align: center; vertical-align: top\">Pacific Time (US &amp;<br>Canada) ...</td>\n",
       "    </tr>\n",
       "    <tr>\n",
       "        <td style=\"padding-left: 1em; padding-right: 1em; text-align: center; vertical-align: top\">@VirginAmerica Really<br>missed a prime ...</td>\n",
       "        <td style=\"padding-left: 1em; padding-right: 1em; text-align: center; vertical-align: top\">None</td>\n",
       "        <td style=\"padding-left: 1em; padding-right: 1em; text-align: center; vertical-align: top\">2015-02-24 11:12:29 -0800</td>\n",
       "        <td style=\"padding-left: 1em; padding-right: 1em; text-align: center; vertical-align: top\">Los Angeles</td>\n",
       "        <td style=\"padding-left: 1em; padding-right: 1em; text-align: center; vertical-align: top\">Pacific Time (US &amp;<br>Canada) ...</td>\n",
       "    </tr>\n",
       "    <tr>\n",
       "        <td style=\"padding-left: 1em; padding-right: 1em; text-align: center; vertical-align: top\">@virginamerica Well, I<br>didn't…but NOW I DO! ...</td>\n",
       "        <td style=\"padding-left: 1em; padding-right: 1em; text-align: center; vertical-align: top\">None</td>\n",
       "        <td style=\"padding-left: 1em; padding-right: 1em; text-align: center; vertical-align: top\">2015-02-24 11:11:19 -0800</td>\n",
       "        <td style=\"padding-left: 1em; padding-right: 1em; text-align: center; vertical-align: top\">San Diego</td>\n",
       "        <td style=\"padding-left: 1em; padding-right: 1em; text-align: center; vertical-align: top\">Pacific Time (US &amp;<br>Canada) ...</td>\n",
       "    </tr>\n",
       "    <tr>\n",
       "        <td style=\"padding-left: 1em; padding-right: 1em; text-align: center; vertical-align: top\">@VirginAmerica it was<br>amazing, and arrived an ...</td>\n",
       "        <td style=\"padding-left: 1em; padding-right: 1em; text-align: center; vertical-align: top\">None</td>\n",
       "        <td style=\"padding-left: 1em; padding-right: 1em; text-align: center; vertical-align: top\">2015-02-24 10:53:27 -0800</td>\n",
       "        <td style=\"padding-left: 1em; padding-right: 1em; text-align: center; vertical-align: top\">Los Angeles</td>\n",
       "        <td style=\"padding-left: 1em; padding-right: 1em; text-align: center; vertical-align: top\">Eastern Time (US &amp;<br>Canada) ...</td>\n",
       "    </tr>\n",
       "    <tr>\n",
       "        <td style=\"padding-left: 1em; padding-right: 1em; text-align: center; vertical-align: top\">@VirginAmerica did you<br>know that suicide is the ...</td>\n",
       "        <td style=\"padding-left: 1em; padding-right: 1em; text-align: center; vertical-align: top\">None</td>\n",
       "        <td style=\"padding-left: 1em; padding-right: 1em; text-align: center; vertical-align: top\">2015-02-24 10:48:24 -0800</td>\n",
       "        <td style=\"padding-left: 1em; padding-right: 1em; text-align: center; vertical-align: top\">1/1 loner squad</td>\n",
       "        <td style=\"padding-left: 1em; padding-right: 1em; text-align: center; vertical-align: top\">Eastern Time (US &amp;<br>Canada) ...</td>\n",
       "    </tr>\n",
       "</table>\n",
       "[10 rows x 15 columns]<br/>\n",
       "</div>"
      ],
      "text/plain": [
       "Columns:\n",
       "\ttweet_id\tint\n",
       "\tairline_sentiment\tstr\n",
       "\tairline_sentiment_confidence\tfloat\n",
       "\tnegativereason\tstr\n",
       "\tnegativereason_confidence\tfloat\n",
       "\tairline\tstr\n",
       "\tairline_sentiment_gold\tstr\n",
       "\tname\tstr\n",
       "\tnegativereason_gold\tstr\n",
       "\tretweet_count\tint\n",
       "\ttext\tstr\n",
       "\ttweet_coord\tarray\n",
       "\ttweet_created\tstr\n",
       "\ttweet_location\tstr\n",
       "\tuser_timezone\tstr\n",
       "\n",
       "Rows: 10\n",
       "\n",
       "Data:\n",
       "+--------------------+-------------------+------------------------------+\n",
       "|      tweet_id      | airline_sentiment | airline_sentiment_confidence |\n",
       "+--------------------+-------------------+------------------------------+\n",
       "| 570306133677760513 |      neutral      |             1.0              |\n",
       "| 570301130888122368 |      positive     |            0.3486            |\n",
       "| 570301083672813571 |      neutral      |            0.6837            |\n",
       "| 570301031407624196 |      negative     |             1.0              |\n",
       "| 570300817074462722 |      negative     |             1.0              |\n",
       "| 570300616901320704 |      positive     |            0.6745            |\n",
       "| 570300248553349120 |      neutral      |            0.634             |\n",
       "| 570299953286942721 |      positive     |            0.6559            |\n",
       "| 570295459631263746 |      positive     |             1.0              |\n",
       "| 570294189143031808 |      neutral      |            0.6769            |\n",
       "+--------------------+-------------------+------------------------------+\n",
       "+----------------+---------------------------+----------------+------------------------+\n",
       "| negativereason | negativereason_confidence |    airline     | airline_sentiment_gold |\n",
       "+----------------+---------------------------+----------------+------------------------+\n",
       "|                |            None           | Virgin America |                        |\n",
       "|                |            0.0            | Virgin America |                        |\n",
       "|                |            None           | Virgin America |                        |\n",
       "|   Bad Flight   |           0.7033          | Virgin America |                        |\n",
       "|   Can't Tell   |            1.0            | Virgin America |                        |\n",
       "|                |            0.0            | Virgin America |                        |\n",
       "|                |            None           | Virgin America |                        |\n",
       "|                |            None           | Virgin America |                        |\n",
       "|                |            None           | Virgin America |                        |\n",
       "|                |            0.0            | Virgin America |                        |\n",
       "+----------------+---------------------------+----------------+------------------------+\n",
       "+-----------------+---------------------+---------------+\n",
       "|       name      | negativereason_gold | retweet_count |\n",
       "+-----------------+---------------------+---------------+\n",
       "|     cairdin     |                     |       0       |\n",
       "|     jnardino    |                     |       0       |\n",
       "|    yvonnalynn   |                     |       0       |\n",
       "|     jnardino    |                     |       0       |\n",
       "|     jnardino    |                     |       0       |\n",
       "|    cjmcginnis   |                     |       0       |\n",
       "|      pilot      |                     |       0       |\n",
       "|     dhepburn    |                     |       0       |\n",
       "|    YupitsTate   |                     |       0       |\n",
       "| idk_but_youtube |                     |       0       |\n",
       "+-----------------+---------------------+---------------+\n",
       "+-------------------------------+-------------+---------------------------+\n",
       "|              text             | tweet_coord |       tweet_created       |\n",
       "+-------------------------------+-------------+---------------------------+\n",
       "| @VirginAmerica What @dhepb... |     None    | 2015-02-24 11:35:52 -0800 |\n",
       "| @VirginAmerica plus you've... |     None    | 2015-02-24 11:15:59 -0800 |\n",
       "| @VirginAmerica I didn't to... |     None    | 2015-02-24 11:15:48 -0800 |\n",
       "| @VirginAmerica it's really... |     None    | 2015-02-24 11:15:36 -0800 |\n",
       "| @VirginAmerica and it's a ... |     None    | 2015-02-24 11:14:45 -0800 |\n",
       "| @VirginAmerica yes, nearly... |     None    | 2015-02-24 11:13:57 -0800 |\n",
       "| @VirginAmerica Really miss... |     None    | 2015-02-24 11:12:29 -0800 |\n",
       "| @virginamerica Well, I did... |     None    | 2015-02-24 11:11:19 -0800 |\n",
       "| @VirginAmerica it was amaz... |     None    | 2015-02-24 10:53:27 -0800 |\n",
       "| @VirginAmerica did you kno... |     None    | 2015-02-24 10:48:24 -0800 |\n",
       "+-------------------------------+-------------+---------------------------+\n",
       "+------------------+----------------------------+\n",
       "|  tweet_location  |       user_timezone        |\n",
       "+------------------+----------------------------+\n",
       "|                  | Eastern Time (US & Canada) |\n",
       "|                  | Pacific Time (US & Canada) |\n",
       "|    Lets Play     | Central Time (US & Canada) |\n",
       "|                  | Pacific Time (US & Canada) |\n",
       "|                  | Pacific Time (US & Canada) |\n",
       "| San Francisco CA | Pacific Time (US & Canada) |\n",
       "|   Los Angeles    | Pacific Time (US & Canada) |\n",
       "|    San Diego     | Pacific Time (US & Canada) |\n",
       "|   Los Angeles    | Eastern Time (US & Canada) |\n",
       "| 1/1 loner squad  | Eastern Time (US & Canada) |\n",
       "+------------------+----------------------------+\n",
       "[10 rows x 15 columns]"
      ]
     },
     "execution_count": 3,
     "metadata": {},
     "output_type": "execute_result"
    }
   ],
   "source": [
    "#air.print_rows(num_rows=100)\n",
    "virgin = air.filter_by('Virgin America','airline')\n",
    "len(virgin)\n",
    "virgin.head()\n",
    "\n"
   ]
  },
  {
   "cell_type": "code",
   "execution_count": 4,
   "metadata": {
    "collapsed": false
   },
   "outputs": [],
   "source": [
    "#get rid of the common words\n",
    "s = set(stopwords.words('english'))\n",
    "\n",
    "\n",
    "\n",
    "def remove_stopwords(input):\n",
    "    return [i for i in input.lower().split() if i not in s]\n",
    "   # print [y for x in y if y not in list(s)]\n",
    "\n",
    "air['cleansed_text'] = air['text'].apply(lambda x: remove_stopwords(x))\n"
   ]
  },
  {
   "cell_type": "code",
   "execution_count": 5,
   "metadata": {
    "collapsed": false
   },
   "outputs": [],
   "source": [
    "#print air['cleansed_text'][0]\n",
    "def get_numpy_data(data_sframe, features, label):\n",
    "    data_sframe['intercept'] = 1\n",
    "    features = ['intercept'] + features\n",
    "    features_sframe = data_sframe[features]\n",
    "    feature_matrix = features_sframe.to_numpy()\n",
    "    label_sarray = data_sframe[label]\n",
    "    label_array = label_sarray.to_numpy()\n",
    "    return(feature_matrix, label_array)"
   ]
  },
  {
   "cell_type": "code",
   "execution_count": 6,
   "metadata": {
    "collapsed": false
   },
   "outputs": [],
   "source": [
    "\n",
    "#discard all neutrals\n",
    "non_nuetrals = ['positive','negative']\n",
    "air_non_nuetral = air.filter_by(non_nuetrals,'airline_sentiment')\n",
    "air_non_nuetral['sentiment'] = air_non_nuetral['airline_sentiment'].apply(lambda x: 1 if x == 'positive' else 0)\n",
    "#print air_non_nuetral['text']\n",
    "\n",
    "words = air_non_nuetral['cleansed_text'].to_numpy()\n",
    "#important_words =  [item for sublist in words for item in sublist]\n",
    "\n",
    "\n",
    "\n"
   ]
  },
  {
   "cell_type": "code",
   "execution_count": 7,
   "metadata": {
    "collapsed": false
   },
   "outputs": [
    {
     "name": "stdout",
     "output_type": "stream",
     "text": [
      "['accomplished', 'adaptable', 'admiringly', 'adulation', 'advocated', 'affirmation', 'agility', 'amazed', 'amiability']\n"
     ]
    }
   ],
   "source": [
    "# read positive and negative words.\n",
    "positives=\"\"\n",
    "negatives = \"\"\n",
    "\n",
    "\n",
    "\n",
    "with open('airline-twitter-sentiment/twitter-sentiment-analysis-tutorial-201107/data/opinion-lexicon-English/positive-words.txt') as f:\n",
    "    for i, line in enumerate(f):\n",
    "        if not line.lstrip().startswith(';'):\n",
    "            #sample every 10th word to keep columns managable\n",
    "            if (i%10 == 0):\n",
    "                positives = positives + line\n",
    "                \n",
    "with open('airline-twitter-sentiment/twitter-sentiment-analysis-tutorial-201107/data/opinion-lexicon-English/negative-words.txt') as f:\n",
    "    for i, line in enumerate(f):\n",
    "        if not line.lstrip().startswith(';'):\n",
    "            #sample every 10th word to keep columns managable\n",
    "            if (i%10 == 0):\n",
    "                negatives = negatives + line\n",
    "\n",
    "#print negatives\n",
    "\n",
    "allwords = positives + negatives\n",
    "important_words = allwords.split()\n",
    "print important_words[1:10]\n"
   ]
  },
  {
   "cell_type": "code",
   "execution_count": 8,
   "metadata": {
    "collapsed": false
   },
   "outputs": [
    {
     "name": "stdout",
     "output_type": "stream",
     "text": [
      "['.@virginamerica', 'mean', \"don't\", 'policy', 'destroyed', 'luggage?']\n"
     ]
    }
   ],
   "source": [
    "#x= important_words[1]\n",
    "\n",
    "y= air_non_nuetral['cleansed_text'][100]\n",
    "#print y.count(x)\n",
    "print y\n",
    "#print air_non_nuetral['cleansed_text']\n",
    "for word in important_words:\n",
    "    #print word\n",
    "    air_non_nuetral[word] = air_non_nuetral['cleansed_text'].apply(lambda s: s.count(word))\n",
    "\n",
    "\n"
   ]
  },
  {
   "cell_type": "code",
   "execution_count": 9,
   "metadata": {
    "collapsed": true
   },
   "outputs": [],
   "source": [
    "train_data, validation_data = air_non_nuetral.random_split(.8, seed=2)\n",
    "\n",
    "feature_matrix, sentiment = get_numpy_data(train_data[17:len(train_data)], important_words, 'sentiment')\n",
    "#air_non_nuetral.print_rows(num_rows=10)\n",
    "#air_non_nuetral.column_names()\n"
   ]
  },
  {
   "cell_type": "code",
   "execution_count": 10,
   "metadata": {
    "collapsed": true
   },
   "outputs": [],
   "source": [
    "#consider adding TF-IDF"
   ]
  },
  {
   "cell_type": "code",
   "execution_count": 11,
   "metadata": {
    "collapsed": false
   },
   "outputs": [
    {
     "data": {
      "text/plain": [
       "LogisticRegression(C=1.0, class_weight=None, dual=False, fit_intercept=True,\n",
       "          intercept_scaling=1, max_iter=100, multi_class='ovr',\n",
       "          penalty='l2', random_state=None, solver='liblinear', tol=0.0001,\n",
       "          verbose=0)"
      ]
     },
     "execution_count": 11,
     "metadata": {},
     "output_type": "execute_result"
    }
   ],
   "source": [
    "logreg = LogisticRegression()\n",
    "\n",
    "logreg.fit(feature_matrix, sentiment)\n"
   ]
  },
  {
   "cell_type": "code",
   "execution_count": 12,
   "metadata": {
    "collapsed": false
   },
   "outputs": [
    {
     "name": "stdout",
     "output_type": "stream",
     "text": [
      "0.80179686644\n"
     ]
    }
   ],
   "source": [
    "#what is the accuracy on training \n",
    "score = logreg.score(feature_matrix, sentiment)\n",
    "print score"
   ]
  },
  {
   "cell_type": "code",
   "execution_count": 13,
   "metadata": {
    "collapsed": false
   },
   "outputs": [
    {
     "name": "stdout",
     "output_type": "stream",
     "text": [
      "0.803713527851\n"
     ]
    }
   ],
   "source": [
    "# accuracy on validation data\n",
    "feature_matrix_valid , sentiment_valid = get_numpy_data(validation_data[17:len(validation_data)], important_words,'sentiment')\n",
    "score2 = logreg.score(feature_matrix_valid, sentiment_valid)\n",
    "print score2"
   ]
  },
  {
   "cell_type": "code",
   "execution_count": 29,
   "metadata": {
    "collapsed": false
   },
   "outputs": [
    {
     "name": "stdout",
     "output_type": "stream",
     "text": [
      "(1, 680)\n",
      "(9127, 680)\n",
      "[1 0 0 0 0 0 0 0 0 0 0 0 0 0 0 0 0 0 0 0 0 0 0 0 0 0 0 0 0 0 0 0 0 0 0 0 0\n",
      " 0 0 0 0 0 0 0 0 0 0 0 0 0 0 0 0 0 0 0 0 0 0 0 0 0 0 0 0 0 0 0 0 0 0 0 0 0\n",
      " 0 0 0 0 0 0 0 0 0 0 0 0 0 0 0 0 0 0 0 0 0 0 0 0 0 0 0 0 0 0 0 0 0 0 0 0 0\n",
      " 0 0 0 0 0 0 0 0 0 0 0 0 0 0 0 0 0 0 0 0 0 0 0 0 0 0 0 0 0 0 0 0 0 0 0 0 0\n",
      " 0 0 0 0 0 0 0 0 0 0 0 0 0 0 0 0 0 0 0 0 0 0 0 0 0 0 0 0 0 0 0 0 0 0 0 0 0\n",
      " 0 0 0 0 0 0 0 0 0 0 0 0 0 0 0 0 0 0 0 0 0 0 0 0 0 0 0 0 0 0 0 0 0 0 0 0 0\n",
      " 0 0 0 0 0 0 0 0 0 0 0 0 0 0 0 0 0 0 0 0 0 0 0 0 0 0 0 0 0 0 0 0 0 0 0 0 0\n",
      " 0 0 0 0 0 0 0 0 0 0 0 0 0 0 0 0 0 0 0 0 0 0 0 0 0 0 0 0 0 0 0 0 0 0 0 0 0\n",
      " 0 0 0 0 0 0 0 0 0 0 0 0 0 0 0 0 0 0 0 0 0 0 0 0 0 0 0 0 0 0 0 0 0 0 0 0 0\n",
      " 0 0 0 0 0 0 0 0 0 0 0 0 0 0 0 0 0 0 0 0 0 0 0 0 0 0 0 0 0 0 0 0 0 0 0 0 0\n",
      " 0 0 0 0 0 0 0 0 0 0 0 0 0 0 0 0 0 0 0 0 0 0 0 0 0 0 0 0 0 0 0 0 0 0 0 0 0\n",
      " 0 0 0 0 0 0 0 0 0 0 0 0 0 0 0 0 0 0 0 0 0 0 0 0 0 0 0 0 0 0 0 0 0 0 0 0 0\n",
      " 0 0 0 0 0 0 0 0 0 0 0 0 0 0 0 0 0 0 0 0 0 0 0 0 0 0 0 0 0 0 0 0 0 0 0 0 0\n",
      " 0 0 0 0 0 0 0 0 0 0 0 0 0 0 0 0 0 0 0 0 0 0 0 0 0 0 0 0 0 0 0 0 0 0 0 0 0\n",
      " 0 0 0 0 0 0 0 0 0 0 0 0 0 0 0 0 0 0 0 0 0 0 0 0 0 0 0 0 0 0 0 0 0 0 0 0 0\n",
      " 0 0 0 0 0 0 0 0 0 0 0 0 0 0 0 0 0 0 0 0 0 0 0 0 0 0 0 0 0 0 0 0 0 0 0 0 0\n",
      " 0 0 0 0 0 0 0 0 0 0 0 0 0 0 0 0 0 0 0 0 0 0 0 0 0 0 0 0 0 0 0 0 0 0 0 0 0\n",
      " 0 0 0 0 0 0 0 0 0 0 0 0 0 0 0 0 0 0 0 0 0 0 0 0 0 0 0 0 0 0 0 0 0 0 0 0 0\n",
      " 0 0 0 0 0 0 0 0 0 0 0 0 0 0]\n"
     ]
    }
   ],
   "source": [
    "#print logreg.coef_.shape\n",
    "#print feature_matrix.shape\n",
    "\n"
   ]
  },
  {
   "cell_type": "code",
   "execution_count": 28,
   "metadata": {
    "collapsed": false
   },
   "outputs": [
    {
     "ename": "SyntaxError",
     "evalue": "invalid syntax (<ipython-input-28-d5e0c8fb5d21>, line 4)",
     "output_type": "error",
     "traceback": [
      "\u001b[0;36m  File \u001b[0;32m\"<ipython-input-28-d5e0c8fb5d21>\"\u001b[0;36m, line \u001b[0;32m4\u001b[0m\n\u001b[0;31m    mymatrix = feature_matrix +\u001b[0m\n\u001b[0m                                ^\u001b[0m\n\u001b[0;31mSyntaxError\u001b[0m\u001b[0;31m:\u001b[0m invalid syntax\n"
     ]
    }
   ],
   "source": [
    "#print feature_matrix.shape\n",
    "#print logreg.coef_.shape\n",
    "#print logreg.coef_\n",
    "#mymatrix = feature_matrix + \n",
    "#feature_matrix[:,:-1] = logreg.coef_"
   ]
  },
  {
   "cell_type": "code",
   "execution_count": null,
   "metadata": {
    "collapsed": false
   },
   "outputs": [],
   "source": [
    "coefficients = logreg.coef_\n",
    "sa = SArray(data=coefficients, dtype=float)\n",
    "results = sframe.SFrame()\n",
    "results.add_column(sa, 'coefficients')\n",
    "results.shape"
   ]
  },
  {
   "cell_type": "code",
   "execution_count": 55,
   "metadata": {
    "collapsed": false
   },
   "outputs": [
    {
     "name": "stdout",
     "output_type": "stream",
     "text": [
      "(9144, 696)\n",
      "(1, 680)\n",
      "+--------------------+-------------------+------------------------------+\n",
      "|      tweet_id      | airline_sentiment | airline_sentiment_confidence |\n",
      "+--------------------+-------------------+------------------------------+\n",
      "| 570301130888122368 |      positive     |            0.3486            |\n",
      "| 570301031407624196 |      negative     |             1.0              |\n",
      "| 570300616901320704 |      positive     |            0.6745            |\n",
      "| 570299953286942721 |      positive     |            0.6559            |\n",
      "| 570295459631263746 |      positive     |             1.0              |\n",
      "| 570289724453216256 |      positive     |             1.0              |\n",
      "| 570289584061480960 |      positive     |             1.0              |\n",
      "| 570287408438120448 |      positive     |            0.6451            |\n",
      "| 570282469121007616 |      negative     |            0.6842            |\n",
      "| 570277724385734656 |      positive     |             1.0              |\n",
      "+--------------------+-------------------+------------------------------+\n",
      "+----------------+---------------------------+----------------+------------------------+\n",
      "| negativereason | negativereason_confidence |    airline     | airline_sentiment_gold |\n",
      "+----------------+---------------------------+----------------+------------------------+\n",
      "|                |            0.0            | Virgin America |                        |\n",
      "|   Bad Flight   |           0.7033          | Virgin America |                        |\n",
      "|                |            0.0            | Virgin America |                        |\n",
      "|                |            None           | Virgin America |                        |\n",
      "|                |            None           | Virgin America |                        |\n",
      "|                |            None           | Virgin America |                        |\n",
      "|                |            None           | Virgin America |                        |\n",
      "|                |            None           | Virgin America |                        |\n",
      "|  Late Flight   |           0.3684          | Virgin America |                        |\n",
      "|                |            None           | Virgin America |                        |\n",
      "+----------------+---------------------------+----------------+------------------------+\n",
      "+-----------------+---------------------+---------------+\n",
      "|       name      | negativereason_gold | retweet_count |\n",
      "+-----------------+---------------------+---------------+\n",
      "|     jnardino    |                     |       0       |\n",
      "|     jnardino    |                     |       0       |\n",
      "|    cjmcginnis   |                     |       0       |\n",
      "|     dhepburn    |                     |       0       |\n",
      "|    YupitsTate   |                     |       0       |\n",
      "|   HyperCamiLax  |                     |       0       |\n",
      "|   HyperCamiLax  |                     |       0       |\n",
      "|   mollanderson  |                     |       0       |\n",
      "| smartwatermelon |                     |       0       |\n",
      "|  ItzBrianHunty  |                     |       0       |\n",
      "+-----------------+---------------------+---------------+\n",
      "+-------------------------------+-------------+---------------------------+\n",
      "|              text             | tweet_coord |       tweet_created       |\n",
      "+-------------------------------+-------------+---------------------------+\n",
      "| @VirginAmerica plus you've... |     None    | 2015-02-24 11:15:59 -0800 |\n",
      "| @VirginAmerica it's really... |     None    | 2015-02-24 11:15:36 -0800 |\n",
      "| @VirginAmerica yes, nearly... |     None    | 2015-02-24 11:13:57 -0800 |\n",
      "| @virginamerica Well, I did... |     None    | 2015-02-24 11:11:19 -0800 |\n",
      "| @VirginAmerica it was amaz... |     None    | 2015-02-24 10:53:27 -0800 |\n",
      "| @VirginAmerica I &lt;3 pre... |     None    | 2015-02-24 10:30:40 -0800 |\n",
      "| @VirginAmerica This is suc... |     None    | 2015-02-24 10:30:06 -0800 |\n",
      "| @VirginAmerica @virginmedi... |     None    | 2015-02-24 10:21:28 -0800 |\n",
      "| @VirginAmerica SFO-PDX sch... |     None    | 2015-02-24 10:01:50 -0800 |\n",
      "| @VirginAmerica So excited ... |     None    | 2015-02-24 09:42:59 -0800 |\n",
      "+-------------------------------+-------------+---------------------------+\n",
      "+------------------+----------------------------+-------------------------------+\n",
      "|  tweet_location  |       user_timezone        |         cleansed_text         |\n",
      "+------------------+----------------------------+-------------------------------+\n",
      "|                  | Pacific Time (US & Canada) | [@virginamerica, plus, you... |\n",
      "|                  | Pacific Time (US & Canada) | [@virginamerica, it's, rea... |\n",
      "| San Francisco CA | Pacific Time (US & Canada) | [@virginamerica, yes,, nea... |\n",
      "|    San Diego     | Pacific Time (US & Canada) | [@virginamerica, well,, di... |\n",
      "|   Los Angeles    | Eastern Time (US & Canada) | [@virginamerica, amazing,,... |\n",
      "|       NYC        |      America/New_York      | [@virginamerica, &lt;3, pr... |\n",
      "|       NYC        |      America/New_York      | [@virginamerica, great, de... |\n",
      "|                  | Eastern Time (US & Canada) | [@virginamerica, @virginme... |\n",
      "|  palo alto, ca   | Pacific Time (US & Canada) | [@virginamerica, sfo-pdx, ... |\n",
      "|   west covina    | Pacific Time (US & Canada) | [@virginamerica, excited, ... |\n",
      "+------------------+----------------------------+-------------------------------+\n",
      "+-----------+------------+--------------+-----------+-----+\n",
      "| sentiment | accessable | accomplished | adaptable | ... |\n",
      "+-----------+------------+--------------+-----------+-----+\n",
      "|     1     |     0      |      0       |     0     | ... |\n",
      "|     0     |     0      |      0       |     0     | ... |\n",
      "|     1     |     0      |      0       |     0     | ... |\n",
      "|     1     |     0      |      0       |     0     | ... |\n",
      "|     1     |     0      |      0       |     0     | ... |\n",
      "|     1     |     0      |      0       |     0     | ... |\n",
      "|     1     |     0      |      0       |     0     | ... |\n",
      "|     1     |     0      |      0       |     0     | ... |\n",
      "|     0     |     0      |      0       |     0     | ... |\n",
      "|     1     |     0      |      0       |     0     | ... |\n",
      "+-----------+------------+--------------+-----------+-----+\n",
      "[10 rows x 696 columns]\n",
      "\n",
      "[[-0.68753948  0.          0.66843088  0.          0.          0.          0.\n",
      "   0.          0.          0.43732247  0.          0.          1.03560045\n",
      "   0.          0.          0.         -1.42789185  0.          0.          0.\n",
      "   1.75945258  0.          0.06004082  0.          0.          0.          0.\n",
      "   0.          0.          0.          0.86983634  0.          0.11558917\n",
      "   0.         -0.31202588  0.66843088  0.         -0.10883003  0.\n",
      "  -0.1744691   0.         -0.31202588  0.          0.          0.          0.\n",
      "   0.          0.          0.74054987  0.          0.          0.          0.\n",
      "   0.          0.          0.          0.          0.          0.          0.\n",
      "   0.          0.          0.          2.25778088  0.          0.          0.\n",
      "   0.          0.          2.04495072  0.          2.08960593  0.          0.\n",
      "   0.          0.          0.          0.          0.          0.          0.\n",
      "   0.          0.          0.          0.          1.18576706  0.          0.\n",
      "   0.          0.          0.          0.94087488  1.12454913  0.          0.\n",
      "   0.          0.          1.10521499  0.66843088  0.66843088  0.          0.\n",
      "   0.          0.          0.          0.          0.          0.          0.\n",
      "   0.          0.          0.          0.          0.32840053  0.          0.\n",
      "   0.          0.          0.          0.          0.          0.          0.\n",
      "   0.          0.          0.          0.         -0.52186561  0.          0.\n",
      "   0.          1.12454913  0.          0.          0.          0.28313332\n",
      "   0.          0.          0.          0.          0.          0.          0.\n",
      "   0.         -0.1744691   0.66843088  0.          0.         -0.31202588\n",
      "   0.          0.          0.          0.         -0.24401172  0.          0.\n",
      "   0.          0.          0.          0.         -0.1744691   0.\n",
      "  -0.1744691   0.66843088  0.          0.          0.          0.          0.\n",
      "   0.          0.          0.          0.          0.          0.\n",
      "  -0.04766911  0.          0.         -0.1744691   0.          0.          0.\n",
      "   0.          0.          0.          0.          0.          0.          0.\n",
      "   0.          0.          0.          0.          0.          0.55898799\n",
      "   0.          0.          0.          0.          0.66843088 -0.1744691\n",
      "   0.          0.          0.          0.          0.          0.          0.\n",
      "   0.          0.          0.          0.          0.         -0.1744691\n",
      "   0.          0.          0.          0.         -0.1744691   0.          0.\n",
      "   0.          0.          0.          0.          0.         -0.72917577\n",
      "   0.          0.          0.          0.         -0.15601294  0.          0.\n",
      "   0.          0.         -0.70303605  0.          0.          0.          0.\n",
      "   0.          0.          0.         -0.31202588  0.          0.          0.\n",
      "   0.          0.          0.          0.          0.          0.          0.\n",
      "   0.          0.          0.          0.          0.          0.          0.\n",
      "   0.         -0.96203584  0.          0.          0.          0.          0.\n",
      "   0.          0.          0.         -0.1744691   0.          0.\n",
      "  -0.1744691   0.          0.          0.         -0.1744691   0.          0.\n",
      "   0.         -0.63688299 -0.31202588  0.         -0.38312904  0.          0.\n",
      "  -0.1744691   0.          0.          0.          0.          0.          0.\n",
      "   0.          0.          0.          0.          0.          0.          0.\n",
      "  -0.1744691   0.          0.          0.          0.          0.11558917\n",
      "   0.          0.          0.          0.         -0.49550981  0.          0.\n",
      "   0.          0.          0.         -0.42538886  0.          0.          0.\n",
      "   0.          0.          0.         -0.1744691   0.          0.          0.\n",
      "   0.          0.          0.          0.          0.          0.          0.\n",
      "   0.          0.         -0.07857833  0.          0.          0.\n",
      "  -0.6059483  -0.1744691   0.          0.          0.          0.          0.\n",
      "  -0.1744691   0.          0.          0.         -0.31202588 -0.42175923\n",
      "   0.          0.         -1.20684781  0.          0.          0.          0.\n",
      "   0.          0.          0.          0.          0.          0.          0.\n",
      "   0.          0.          0.          0.          0.          0.          0.\n",
      "  -0.77142296  0.          0.          0.         -0.76304944  0.          0.\n",
      "   0.          0.          0.          0.          0.          0.          0.\n",
      "   0.          0.          0.          0.          0.          0.          0.\n",
      "   0.          0.         -0.71433195  0.         -0.1744691   0.          0.\n",
      "   0.          0.          0.          0.          0.          0.          0.\n",
      "   0.          0.17940272  0.         -0.1744691   0.          0.          0.\n",
      "   0.          0.          0.          0.          0.          0.\n",
      "  -0.31202588  0.         -0.1744691   0.25942885  0.          0.          0.\n",
      "   0.          0.          0.          0.          0.          0.          0.\n",
      "   0.          0.          0.          0.          0.          0.          0.\n",
      "   0.          0.          0.          0.          0.          0.          0.\n",
      "   0.          0.          0.          0.          0.          0.          0.\n",
      "  -0.7734799   0.         -0.15601294  0.         -0.31202588  0.          0.\n",
      "   0.         -0.1744691   0.          0.          0.          0.          0.\n",
      "   0.          0.          0.         -0.31202588  0.          0.          0.\n",
      "   0.          0.          0.          0.          0.          0.          0.\n",
      "   0.          0.         -0.25369962  0.          0.         -1.04379965\n",
      "   0.          0.          0.          0.         -0.1744691   0.          0.\n",
      "   0.          0.          0.          0.         -1.04140391 -0.31202588\n",
      "   0.          0.          0.          0.          0.          0.          0.\n",
      "   0.          0.          0.          0.         -0.1744691   0.          0.\n",
      "   0.          0.          0.          0.          0.          0.          0.\n",
      "   0.          0.         -0.1744691   0.66843088  0.          0.          0.\n",
      "  -1.63993466  0.          0.          0.          0.          0.          0.\n",
      "   0.          0.          0.          0.          0.          0.          0.\n",
      "  -0.1744691  -0.6059483  -0.51821659 -0.09535438  0.          0.          0.\n",
      "   0.          0.          0.          0.          0.          0.          0.\n",
      "   0.43550561  0.          0.          0.          0.          0.          0.\n",
      "   0.          0.          0.          0.          0.          0.          0.\n",
      "   0.          0.          0.          0.         -0.1744691   0.\n",
      "  -1.0070541  -0.31202588  0.          0.          0.          0.          0.\n",
      "   0.         -0.1744691   0.          0.          0.          0.          0.\n",
      "  -0.1744691   0.66843088  0.66843088  0.          0.          0.          0.\n",
      "  -0.47620055  0.          0.          0.          0.          0.          0.\n",
      "   0.          0.          0.         -0.54114816 -0.8321791  -0.1744691\n",
      "   0.          0.          0.          0.          0.          0.          0.\n",
      "   0.          0.         -0.1744691   0.          0.          0.          0.\n",
      "   0.         -0.6059483   0.          0.          0.          0.          0.\n",
      "   0.          0.          0.49943674  0.          0.          0.          0.\n",
      "   0.          0.          0.          0.          0.         -0.1744691\n",
      "   0.          0.          0.          0.          0.          0.          0.\n",
      "   0.          0.          0.          0.         -0.1744691   0.          0.\n",
      "  -0.31202588  0.          0.          0.          0.         -0.67671178\n",
      "   0.          0.43732247  0.          0.         -0.2000297   0.          0.\n",
      "   0.          0.        ]]\n"
     ]
    }
   ],
   "source": [
    "print train_data.shape\n",
    "print logreg.coef_.shape\n",
    "print train_data.head()\n",
    "print logreg.coef_"
   ]
  },
  {
   "cell_type": "code",
   "execution_count": 64,
   "metadata": {
    "collapsed": false
   },
   "outputs": [
    {
     "name": "stdout",
     "output_type": "stream",
     "text": [
      "(680, 1)\n",
      "(1, 680)\n"
     ]
    }
   ],
   "source": [
    "table = sframe.SFrame({'word': ['(intercept)'] + important_words})\n",
    "def add_coefficients_to_table(coefficients, column_name):\n",
    "    table[column_name] = coefficients\n",
    "    return table\n",
    "print table.shape\n",
    "print logreg.coef_.shape\n"
   ]
  },
  {
   "cell_type": "code",
   "execution_count": 66,
   "metadata": {
    "collapsed": false
   },
   "outputs": [
    {
     "name": "stdout",
     "output_type": "stream",
     "text": [
      "+--------------+-----------------+\n",
      "|     word     |   coefficients  |\n",
      "+--------------+-----------------+\n",
      "| (intercept)  | -0.687539484082 |\n",
      "|  accessable  |       0.0       |\n",
      "| accomplished |  0.668430875493 |\n",
      "|  adaptable   |       0.0       |\n",
      "|  admiringly  |       0.0       |\n",
      "|  adulation   |       0.0       |\n",
      "|  advocated   |       0.0       |\n",
      "| affirmation  |       0.0       |\n",
      "|   agility    |       0.0       |\n",
      "|    amazed    |  0.437322466595 |\n",
      "+--------------+-----------------+\n",
      "[680 rows x 2 columns]\n",
      "Note: Only the head of the SFrame is printed.\n",
      "You can use print_rows(num_rows=m, num_columns=n) to print more rows and columns.\n"
     ]
    }
   ],
   "source": [
    "the_coeff = logreg.coef_.T\n",
    "#print the_coeff.flatten()\n",
    "coeff_table = add_coefficients_to_table(the_coeff.flatten(), 'coefficients')\n",
    "print coeff_table"
   ]
  },
  {
   "cell_type": "code",
   "execution_count": 74,
   "metadata": {
    "collapsed": false
   },
   "outputs": [],
   "source": [
    "sorted = coeff_table.sort('coefficients', ascending=False)"
   ]
  },
  {
   "cell_type": "code",
   "execution_count": 75,
   "metadata": {
    "collapsed": false
   },
   "outputs": [
    {
     "data": {
      "text/html": [
       "<div style=\"max-height:1000px;max-width:1500px;overflow:auto;\"><table frame=\"box\" rules=\"cols\">\n",
       "    <tr>\n",
       "        <th style=\"padding-left: 1em; padding-right: 1em; text-align: center\">word</th>\n",
       "        <th style=\"padding-left: 1em; padding-right: 1em; text-align: center\">coefficients</th>\n",
       "    </tr>\n",
       "    <tr>\n",
       "        <td style=\"padding-left: 1em; padding-right: 1em; text-align: center; vertical-align: top\">excellent</td>\n",
       "        <td style=\"padding-left: 1em; padding-right: 1em; text-align: center; vertical-align: top\">2.25778087508</td>\n",
       "    </tr>\n",
       "    <tr>\n",
       "        <td style=\"padding-left: 1em; padding-right: 1em; text-align: center; vertical-align: top\">favorite</td>\n",
       "        <td style=\"padding-left: 1em; padding-right: 1em; text-align: center; vertical-align: top\">2.08960592745</td>\n",
       "    </tr>\n",
       "    <tr>\n",
       "        <td style=\"padding-left: 1em; padding-right: 1em; text-align: center; vertical-align: top\">fantastic</td>\n",
       "        <td style=\"padding-left: 1em; padding-right: 1em; text-align: center; vertical-align: top\">2.04495072046</td>\n",
       "    </tr>\n",
       "    <tr>\n",
       "        <td style=\"padding-left: 1em; padding-right: 1em; text-align: center; vertical-align: top\">best</td>\n",
       "        <td style=\"padding-left: 1em; padding-right: 1em; text-align: center; vertical-align: top\">1.75945257808</td>\n",
       "    </tr>\n",
       "    <tr>\n",
       "        <td style=\"padding-left: 1em; padding-right: 1em; text-align: center; vertical-align: top\">grand</td>\n",
       "        <td style=\"padding-left: 1em; padding-right: 1em; text-align: center; vertical-align: top\">1.1857670612</td>\n",
       "    </tr>\n",
       "    <tr>\n",
       "        <td style=\"padding-left: 1em; padding-right: 1em; text-align: center; vertical-align: top\">pleasure</td>\n",
       "        <td style=\"padding-left: 1em; padding-right: 1em; text-align: center; vertical-align: top\">1.12454912858</td>\n",
       "    </tr>\n",
       "    <tr>\n",
       "        <td style=\"padding-left: 1em; padding-right: 1em; text-align: center; vertical-align: top\">holy</td>\n",
       "        <td style=\"padding-left: 1em; padding-right: 1em; text-align: center; vertical-align: top\">1.12454912858</td>\n",
       "    </tr>\n",
       "    <tr>\n",
       "        <td style=\"padding-left: 1em; padding-right: 1em; text-align: center; vertical-align: top\">impressed</td>\n",
       "        <td style=\"padding-left: 1em; padding-right: 1em; text-align: center; vertical-align: top\">1.10521498665</td>\n",
       "    </tr>\n",
       "    <tr>\n",
       "        <td style=\"padding-left: 1em; padding-right: 1em; text-align: center; vertical-align: top\">appreciated</td>\n",
       "        <td style=\"padding-left: 1em; padding-right: 1em; text-align: center; vertical-align: top\">1.03560044639</td>\n",
       "    </tr>\n",
       "    <tr>\n",
       "        <td style=\"padding-left: 1em; padding-right: 1em; text-align: center; vertical-align: top\">helping</td>\n",
       "        <td style=\"padding-left: 1em; padding-right: 1em; text-align: center; vertical-align: top\">0.940874880947</td>\n",
       "    </tr>\n",
       "</table>\n",
       "[10 rows x 2 columns]<br/>\n",
       "</div>"
      ],
      "text/plain": [
       "Columns:\n",
       "\tword\tstr\n",
       "\tcoefficients\tfloat\n",
       "\n",
       "Rows: 10\n",
       "\n",
       "Data:\n",
       "+-------------+----------------+\n",
       "|     word    |  coefficients  |\n",
       "+-------------+----------------+\n",
       "|  excellent  | 2.25778087508  |\n",
       "|   favorite  | 2.08960592745  |\n",
       "|  fantastic  | 2.04495072046  |\n",
       "|     best    | 1.75945257808  |\n",
       "|    grand    |  1.1857670612  |\n",
       "|   pleasure  | 1.12454912858  |\n",
       "|     holy    | 1.12454912858  |\n",
       "|  impressed  | 1.10521498665  |\n",
       "| appreciated | 1.03560044639  |\n",
       "|   helping   | 0.940874880947 |\n",
       "+-------------+----------------+\n",
       "[10 rows x 2 columns]"
      ]
     },
     "execution_count": 75,
     "metadata": {},
     "output_type": "execute_result"
    }
   ],
   "source": [
    "sorted.head()"
   ]
  },
  {
   "cell_type": "code",
   "execution_count": 72,
   "metadata": {
    "collapsed": true
   },
   "outputs": [],
   "source": [
    "sorted = coeff_table.sort('coefficients')"
   ]
  },
  {
   "cell_type": "code",
   "execution_count": 73,
   "metadata": {
    "collapsed": false
   },
   "outputs": [
    {
     "name": "stdout",
     "output_type": "stream",
     "text": [
      "+-----------+-----------------+\n",
      "|    word   |   coefficients  |\n",
      "+-----------+-----------------+\n",
      "|    poor   |  -1.63993466072 |\n",
      "| available |  -1.42789185406 |\n",
      "|   failed  |  -1.2068478059  |\n",
      "|    miss   |  -1.04379965339 |\n",
      "| nightmare |  -1.04140391071 |\n",
      "|    sick   |  -1.00705410026 |\n",
      "| complaint | -0.962035843476 |\n",
      "|   sucks   | -0.832179104281 |\n",
      "|   issues  |  -0.77347990485 |\n",
      "|  freaking |  -0.77142295922 |\n",
      "+-----------+-----------------+\n",
      "[10 rows x 2 columns]\n",
      "\n"
     ]
    }
   ],
   "source": [
    "print sorted.head()"
   ]
  },
  {
   "cell_type": "code",
   "execution_count": 76,
   "metadata": {
    "collapsed": false
   },
   "outputs": [
    {
     "data": {
      "text/plain": [
       "14475"
      ]
     },
     "execution_count": 76,
     "metadata": {},
     "output_type": "execute_result"
    }
   ],
   "source": [
    "len(air)"
   ]
  },
  {
   "cell_type": "code",
   "execution_count": 77,
   "metadata": {
    "collapsed": false
   },
   "outputs": [
    {
     "data": {
      "text/plain": [
       "11423"
      ]
     },
     "execution_count": 77,
     "metadata": {},
     "output_type": "execute_result"
    }
   ],
   "source": [
    "len(air_non_nuetral)"
   ]
  },
  {
   "cell_type": "code",
   "execution_count": 81,
   "metadata": {
    "collapsed": false
   },
   "outputs": [
    {
     "data": {
      "text/plain": [
       "2338"
      ]
     },
     "execution_count": 81,
     "metadata": {},
     "output_type": "execute_result"
    }
   ],
   "source": [
    "len(air.filter_by('positive','airline_sentiment'))"
   ]
  },
  {
   "cell_type": "code",
   "execution_count": null,
   "metadata": {
    "collapsed": true
   },
   "outputs": [],
   "source": []
  }
 ],
 "metadata": {
  "kernelspec": {
   "display_name": "Python 2",
   "language": "python",
   "name": "python2"
  },
  "language_info": {
   "codemirror_mode": {
    "name": "ipython",
    "version": 2
   },
   "file_extension": ".py",
   "mimetype": "text/x-python",
   "name": "python",
   "nbconvert_exporter": "python",
   "pygments_lexer": "ipython2",
   "version": "2.7.12"
  }
 },
 "nbformat": 4,
 "nbformat_minor": 0
}
